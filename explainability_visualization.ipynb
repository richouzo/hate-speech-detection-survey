{
 "cells": [
  {
   "cell_type": "markdown",
   "metadata": {},
   "source": [
    "### Imports"
   ]
  },
  {
   "cell_type": "code",
   "execution_count": 1,
   "metadata": {},
   "outputs": [
    {
     "name": "stderr",
     "output_type": "stream",
     "text": [
      "[nltk_data] Downloading package stopwords to\n",
      "[nltk_data]     C:\\Users\\Richard\\AppData\\Roaming\\nltk_data...\n",
      "[nltk_data]   Package stopwords is already up-to-date!\n"
     ]
    }
   ],
   "source": [
    "import tqdm\n",
    "import argparse\n",
    "import numpy as np\n",
    "import datetime\n",
    "import time\n",
    "\n",
    "import spacy\n",
    "import pandas as pd\n",
    "from sklearn.metrics import f1_score\n",
    "\n",
    "from torch import optim\n",
    "import torch.nn as nn\n",
    "from torch.nn.utils.rnn import pack_padded_sequence, pad_packed_sequence\n",
    "\n",
    "from preprocess_utils import *\n",
    "from train import train_model, test_model\n",
    "from models import BasicLSTM, BiLSTM\n",
    "from test_save_stats import *\n",
    "\n",
    "from utils import *\n",
    "\n",
    "import captum\n",
    "from captum.attr import LayerIntegratedGradients, TokenReferenceBase, visualization\n",
    "\n",
    "from typing import Any, Iterable, List, Tuple, Union\n",
    "from IPython.core.display import HTML, display\n",
    "\n",
    "spacy_en = spacy.load(\"en_core_web_sm\")"
   ]
  },
  {
   "cell_type": "markdown",
   "metadata": {},
   "source": [
    "## ⚠️ Before running the cells below, make sure to run :\n",
    "\n",
    "- test_save_stats.py --model=MODEL_NAME--saved_model_path=PATH_TO_MODEL (see source code for more details) + any model parameters needed\n",
    "\n",
    "The code saves the samples for which the model is sure of its prediction (ie. when it the probability is either really close to 1 (Hate) or close to 0 (Neutral)). <br>\n",
    "We are now going to visualize the explainability of the model (ie. the importance of words in the model's decision) respectively for True Positives (TP), False Positives (FP), True Negatives (TN) and False Negatives(FN)."
   ]
  },
  {
   "cell_type": "markdown",
   "metadata": {},
   "source": [
    "### Hyperparameters"
   ]
  },
  {
   "cell_type": "code",
   "execution_count": 2,
   "metadata": {},
   "outputs": [],
   "source": [
    "## Put your model hyperparameters here\n",
    "model_type = 'BasicLSTM'\n",
    "saved_model_path = 'saved_models/' + 'BasicLSTM_2021-12-08_01-04-25_trained_testAcc=0.7107.pth'\n",
    "stats_path = \"stats_results/\" + \"stats_BasicLSTM_2021-12-08_01-04-25_test_bcelosswithlogits.csv\""
   ]
  },
  {
   "cell_type": "code",
   "execution_count": 3,
   "metadata": {},
   "outputs": [],
   "source": [
    "# Specific model parameters\n",
    "fix_length = None\n",
    "context_size = 0\n",
    "pyramid = []\n",
    "fcs = []\n",
    "batch_norm = 0\n",
    "alpha = 0"
   ]
  },
  {
   "cell_type": "markdown",
   "metadata": {},
   "source": [
    "### Data Import"
   ]
  },
  {
   "cell_type": "code",
   "execution_count": 4,
   "metadata": {},
   "outputs": [
    {
     "name": "stdout",
     "output_type": "stream",
     "text": [
      "Device: cuda\n",
      "file loaded and formatted..\n",
      "data split into train/val/test\n",
      "field objects created\n",
      "fields and dataset object created\n",
      "vocabulary built..\n",
      "Loading vocabulary...\n",
      "Vocabulary Loaded\n"
     ]
    }
   ],
   "source": [
    "training_data = \"data/training_data/offenseval-training-v1.tsv\"\n",
    "testset_data =\"data/test_data/testset-levela.tsv\"\n",
    "test_labels_data = \"data/test_data/labels-levela.csv\"\n",
    "\n",
    "device = torch.device('cuda') if torch.cuda.is_available() else torch.device('cpu')\n",
    "print(\"Device:\", device)\n",
    "\n",
    "field,_, _, _, _ = get_datasets(training_data, testset_data, test_labels_data, model_type, fix_length)\n",
    "\n",
    "print(\"Loading vocabulary...\")\n",
    "vocab_stoi, vocab_itos = get_vocab_stoi_itos(field)\n",
    "print(\"Vocabulary Loaded\")"
   ]
  },
  {
   "cell_type": "code",
   "execution_count": 5,
   "metadata": {},
   "outputs": [
    {
     "name": "stdout",
     "output_type": "stream",
     "text": [
      "Loading Model...\n",
      "saved_models/BasicLSTM_2021-12-08_01-04-25_trained_testAcc=0.7107.pth loaded.\n",
      "Model Loaded.\n"
     ]
    }
   ],
   "source": [
    "print(\"Loading Model...\")\n",
    "model = load_model(model_type, field, device, fix_length=fix_length,\n",
    "                   context_size=context_size, pyramid=pyramid, fcs=fcs,\n",
    "                   batch_norm=batch_norm, alpha=alpha)\n",
    "model = load_trained_model(model, saved_model_path, device)\n",
    "print(\"Model Loaded.\")"
   ]
  },
  {
   "cell_type": "code",
   "execution_count": 6,
   "metadata": {},
   "outputs": [
    {
     "name": "stdout",
     "output_type": "stream",
     "text": [
      "Loading Stats Data..\n"
     ]
    },
    {
     "data": {
      "text/html": [
       "<div>\n",
       "<style scoped>\n",
       "    .dataframe tbody tr th:only-of-type {\n",
       "        vertical-align: middle;\n",
       "    }\n",
       "\n",
       "    .dataframe tbody tr th {\n",
       "        vertical-align: top;\n",
       "    }\n",
       "\n",
       "    .dataframe thead th {\n",
       "        text-align: right;\n",
       "    }\n",
       "</style>\n",
       "<table border=\"1\" class=\"dataframe\">\n",
       "  <thead>\n",
       "    <tr style=\"text-align: right;\">\n",
       "      <th></th>\n",
       "      <th>original_index</th>\n",
       "      <th>text</th>\n",
       "      <th>true_label</th>\n",
       "      <th>pred_label</th>\n",
       "      <th>prob</th>\n",
       "      <th>loss</th>\n",
       "    </tr>\n",
       "  </thead>\n",
       "  <tbody>\n",
       "    <tr>\n",
       "      <th>0</th>\n",
       "      <td>0</td>\n",
       "      <td>&lt;unk&gt; &lt;unk&gt; &lt;unk&gt; &lt;unk&gt; democrats support anti...</td>\n",
       "      <td>1</td>\n",
       "      <td>1</td>\n",
       "      <td>0.723092</td>\n",
       "      <td>0.324219</td>\n",
       "    </tr>\n",
       "    <tr>\n",
       "      <th>1</th>\n",
       "      <td>1</td>\n",
       "      <td>constitutionday &lt;unk&gt; conservatives , hated pr...</td>\n",
       "      <td>0</td>\n",
       "      <td>0</td>\n",
       "      <td>0.070297</td>\n",
       "      <td>0.072890</td>\n",
       "    </tr>\n",
       "    <tr>\n",
       "      <th>2</th>\n",
       "      <td>2</td>\n",
       "      <td>foxnews nra maga potus trump &lt;unk&gt; rnc &lt;unk&gt; v...</td>\n",
       "      <td>0</td>\n",
       "      <td>0</td>\n",
       "      <td>0.004778</td>\n",
       "      <td>0.004790</td>\n",
       "    </tr>\n",
       "    <tr>\n",
       "      <th>3</th>\n",
       "      <td>3</td>\n",
       "      <td>watching &lt;unk&gt; getting news still &lt;unk&gt; always...</td>\n",
       "      <td>0</td>\n",
       "      <td>0</td>\n",
       "      <td>0.020048</td>\n",
       "      <td>0.020251</td>\n",
       "    </tr>\n",
       "    <tr>\n",
       "      <th>4</th>\n",
       "      <td>4</td>\n",
       "      <td>&lt;unk&gt; : unity demo oppose far - right london –...</td>\n",
       "      <td>1</td>\n",
       "      <td>1</td>\n",
       "      <td>0.724287</td>\n",
       "      <td>0.322568</td>\n",
       "    </tr>\n",
       "  </tbody>\n",
       "</table>\n",
       "</div>"
      ],
      "text/plain": [
       "   original_index                                               text  \\\n",
       "0               0  <unk> <unk> <unk> <unk> democrats support anti...   \n",
       "1               1  constitutionday <unk> conservatives , hated pr...   \n",
       "2               2  foxnews nra maga potus trump <unk> rnc <unk> v...   \n",
       "3               3  watching <unk> getting news still <unk> always...   \n",
       "4               4  <unk> : unity demo oppose far - right london –...   \n",
       "\n",
       "   true_label  pred_label      prob      loss  \n",
       "0           1           1  0.723092  0.324219  \n",
       "1           0           0  0.070297  0.072890  \n",
       "2           0           0  0.004778  0.004790  \n",
       "3           0           0  0.020048  0.020251  \n",
       "4           1           1  0.724287  0.322568  "
      ]
     },
     "execution_count": 6,
     "metadata": {},
     "output_type": "execute_result"
    }
   ],
   "source": [
    "print(\"Loading Stats Data..\")\n",
    "df = pd.read_csv(stats_path)\n",
    "df = df.drop(columns=[\"Unnamed: 0\"])\n",
    "df.head()"
   ]
  },
  {
   "cell_type": "code",
   "execution_count": 7,
   "metadata": {},
   "outputs": [
    {
     "name": "stdout",
     "output_type": "stream",
     "text": [
      "TP, FP, TN, FN selected from loaded data.\n"
     ]
    }
   ],
   "source": [
    "## Selecting TP, FP, TN, FN\n",
    "\n",
    "df_tp =   df[(df['true_label']==1) & (df['pred_label']==1) ]\n",
    "df_fp =   df[(df['true_label']==0) & (df['pred_label']==1) ]\n",
    "df_tn =   df[(df['true_label']==0) & (df['pred_label']==0) ]\n",
    "df_fn =   df[(df['true_label']==1) & (df['pred_label']==0) ]\n",
    "\n",
    "print(\"TP, FP, TN, FN selected from loaded data.\")"
   ]
  },
  {
   "cell_type": "markdown",
   "metadata": {},
   "source": [
    "### Definition of methods to Visualize Importance of Words"
   ]
  },
  {
   "cell_type": "markdown",
   "metadata": {},
   "source": [
    "We modified and adapted code from Captum (in particular, visualization.visualize_text) to fit our context."
   ]
  },
  {
   "cell_type": "code",
   "execution_count": 8,
   "metadata": {},
   "outputs": [],
   "source": [
    "def interpret_sentence(model, field, pad_ind, input_data, sentence, vocab_stoi, vocab_itos, device, vis_data_records_ig, \\\n",
    "                       token_reference, lig, min_len = 7, label = 0, class_names=[\"Neutral\",\"Hate\"]):\n",
    "    \n",
    "    indexed = [int(input_data[i,0]) for i in range(input_data.shape[0])]\n",
    "    if len(indexed) < min_len :\n",
    "        indexed +=[pad_ind] * (min_len - len(indexed))\n",
    "\n",
    "    text = [vocab_itos[tok] for tok in indexed]\n",
    "\n",
    "    if len(text) < min_len:\n",
    "        text += [pad_ind] * (min_len - len(text))\n",
    "\n",
    "    indexed = [vocab_stoi[t] for t in text]\n",
    "    input_indices = torch.tensor(indexed, device=device).unsqueeze(0).permute(1,0)\n",
    "\n",
    "    model.zero_grad()\n",
    "\n",
    "    # input_indices dim: [sequence_length]\n",
    "    seq_length = input_indices.shape[0]\n",
    "    #seq_length = input_data.shape[0]\n",
    "\n",
    "   # input_indices = input_data\n",
    "\n",
    "    # predict\n",
    "    out = model.forward(input_data.to(device))\n",
    "    out = torch.sigmoid(out)\n",
    "    pred = out.item()\n",
    "    pred_ind = round(pred)\n",
    "    \n",
    "  \n",
    "    # generate reference indices for each sample\n",
    "    reference_indices = token_reference.generate_reference(seq_length, device=device).unsqueeze(0).permute(1, 0)\n",
    "\n",
    "    # compute attributions and approximation delta using layer integrated gradients\n",
    "    attributions_ig, delta = lig.attribute(input_indices, reference_indices,\\\n",
    "                                           n_steps=200, return_convergence_delta=True)\n",
    "\n",
    "    #print('pred: ', class_names[pred_ind], '(', '%.2f'%pred, ')', ', delta: ', abs(delta))\n",
    "    \n",
    "    \"\"\"print('text', ' '.join(text))\n",
    "    attribution_list = attributions_ig.detach().sum(2).squeeze(1)\n",
    "    list2print = [(text[i], attribution_list.tolist()[i]) for i in range(len(text))]\n",
    "    print('attribution', list2print)\n",
    "    attribution_list_norm = attribution_list / torch.norm(attributions_ig)\n",
    "    list2print_norm = [(text[i], attribution_list_norm.tolist()[i]) for i in range(len(text))]\n",
    "    print('attribution norm', list2print_norm)\n",
    "    print()\"\"\"\n",
    "\n",
    "    add_attributions_to_visualizer(attributions_ig, vocab_itos, text, pred, pred_ind, label, delta, vis_data_records_ig,\\\n",
    "                                  class_names)\n",
    "\n",
    "def add_attributions_to_visualizer(attributions, vocab_itos, text, pred, pred_ind, label, delta, vis_data_records,\\\n",
    "                                   class_names):\n",
    "    attributions = attributions.sum(dim=2).squeeze(0)\n",
    "    attributions = attributions / torch.norm(attributions)\n",
    "    attributions = attributions.cpu().detach().numpy()\n",
    "\n",
    "    # storing couple samples in an array for visualization purposes\n",
    "    vis_data_records.append(visualization.VisualizationDataRecord(\n",
    "                            attributions,\n",
    "                            pred,\n",
    "                            class_names[pred_ind],\n",
    "                            class_names[label],\n",
    "                            class_names[1],\n",
    "                            attributions.sum(),\n",
    "                            text,\n",
    "                            delta))\n"
   ]
  },
  {
   "cell_type": "code",
   "execution_count": 9,
   "metadata": {},
   "outputs": [],
   "source": [
    "def format_classname(classname):\n",
    "\n",
    "    return '<td><text style=\"padding-right:2em\"><b>{}</b></text></td>'.format(classname)\n",
    "\n",
    "def format_word_importances(words, importances):\n",
    "    if importances is None or len(importances) == 0:\n",
    "        return \"<td></td>\"\n",
    "    assert len(words) <= len(importances)\n",
    "    tags = [\"<td>\"]\n",
    "    for word, importance in zip(words, importances[: len(words)]):\n",
    "        word = format_special_tokens(word)\n",
    "        color = _get_color(importance)\n",
    "        unwrapped_tag = '<mark style=\"background-color: {color}; opacity:1.0; \\\n",
    "                    line-height:1.75\"><font color=\"black\"> {word}\\\n",
    "                    </font></mark>'.format(\n",
    "            color=color, word=word\n",
    "        )\n",
    "        tags.append(unwrapped_tag)\n",
    "    tags.append(\"</td>\")\n",
    "    return \"\".join(tags)\n",
    "\n",
    "def format_special_tokens(token):\n",
    "    if token.startswith(\"<\") and token.endswith(\">\"):\n",
    "        return \"#\" + token.strip(\"<>\")\n",
    "    return token\n",
    "\n",
    "\n",
    "def _get_color(attr):\n",
    "    # clip values to prevent CSS errors (Values should be from [-1,1])\n",
    "    attr = max(-1, min(1, attr))\n",
    "    if attr > 0:\n",
    "        #(52, 85%, 69%);\n",
    "        # red\n",
    "        hue = 0\n",
    "        sat = 75\n",
    "        lig = 100 - int(50 * attr)\n",
    "    else:\n",
    "        #yellow\n",
    "        hue = 52\n",
    "        sat = 85\n",
    "        lig = 100 - int(-40 * attr)\n",
    "        \n",
    "#     attr = max(-1, min(1, attr))\n",
    "#     hue = 0\n",
    "#     sat = 75\n",
    "#     lig = np.clip(100 - int(50 * attr), 0, 100)\n",
    "    return \"hsl({}, {}%, {}%)\".format(hue, sat, lig)\n",
    "\n",
    "def visualize_text(\n",
    "    datarecords, legend: bool = True\n",
    ") -> \"HTML\":  # In quotes because this type doesn't exist in standalone mode\n",
    "    HAS_IPYTHON = True\n",
    "    assert HAS_IPYTHON, (\n",
    "        \"IPython must be available to visualize text. \"\n",
    "        \"Please run 'pip install ipython'.\"\n",
    "    )\n",
    "    dom = [\"<table width: 100%>\"]\n",
    "    rows = [\n",
    "        \"<tr><th>True Label</th>\"\n",
    "        \"<th>Predicted Label</th>\"\n",
    "        \"<th>Attribution Label</th>\"\n",
    "        \"<th>Attribution Score</th>\"\n",
    "        \"<th>Word Importance</th>\"\n",
    "    ]\n",
    "       \n",
    "    for datarecord in datarecords:\n",
    "        rows.append(\n",
    "            \"\".join(\n",
    "                [\n",
    "                    \"<tr>\",\n",
    "                    format_classname(datarecord.true_class),\n",
    "                    format_classname(\n",
    "                        \"{0} ({1:.2f})\".format(\n",
    "                            datarecord.pred_class, datarecord.pred_prob\n",
    "                        )\n",
    "                    ),\n",
    "                    format_classname(datarecord.attr_class),\n",
    "                    format_classname(\"{0:.2f}\".format(datarecord.attr_score)),\n",
    "                    format_word_importances(\n",
    "                        datarecord.raw_input, datarecord.word_attributions\n",
    "                    ),\n",
    "                    \"<tr>\",\n",
    "                ]\n",
    "            )\n",
    "        )\n",
    "\n",
    "    if legend:\n",
    "        dom.append(\n",
    "            '<div style=\"border-top: 1px solid; margin-top: 5px; \\\n",
    "            padding-top: 5px; display: inline-block\">'\n",
    "        )\n",
    "        dom.append(\"<b>Legend: </b>\")\n",
    "\n",
    "        for value, label in zip([-1,1], [\"Neutral\", \"Hate\"]):\n",
    "            dom.append(\n",
    "                '<span style=\"display: inline-block; width: 10px; height: 10px; \\\n",
    "                border: 1px solid; background-color: \\\n",
    "                {value}\"></span> {label}  '.format(\n",
    "                    value=_get_color(value), label=label\n",
    "                )\n",
    "            )\n",
    "        dom.append(\"</div>\")\n",
    "\n",
    "    dom.append(\"\".join(rows))\n",
    "    dom.append(\"</table>\")\n",
    "    html = HTML(\"\".join(dom))\n",
    "    display(html)\n",
    "\n",
    "    return html"
   ]
  },
  {
   "cell_type": "code",
   "execution_count": 10,
   "metadata": {},
   "outputs": [],
   "source": [
    "def model_explainability(model, vocab_stoi, vocab_itos, df, max_samples, field, device, class_names=[\"Neutral\",\"Hate\"]):\n",
    "    \"\"\"\n",
    "    Computing words importance for each sample in df\n",
    "    \"\"\"\n",
    "    print(\"\\n\\n**MODEL EXPLAINABILITY**\\n\")\n",
    "    print(\"Computing words importance for each sample... \")\n",
    "\n",
    "    PAD_IND = field.vocab.stoi[field.pad_token]-1 #vocab_stoi[field.pad_token]\n",
    "    token_reference = TokenReferenceBase(reference_token_idx=PAD_IND)\n",
    "\n",
    "    lig = LayerIntegratedGradients(model, model.emb)\n",
    "\n",
    "    # accumalate couple samples in this array for visualization purposes\n",
    "    vis_data_records_ig = []\n",
    "\n",
    "    phase = \"test\"\n",
    "    model.train()\n",
    "    \n",
    "    for i in range(max_samples):\n",
    "        sentence = df.iloc[i].text\n",
    "        label = df.iloc[i].true_label\n",
    "        input_tokens = sentence_to_input_tokens(sentence, vocab_stoi)\n",
    "        with torch.set_grad_enabled(True):\n",
    "            interpret_sentence(model, field, pad_ind = PAD_IND, input_data=input_tokens, sentence=sentence, vocab_stoi=vocab_stoi, \\\n",
    "                               vocab_itos=vocab_itos, device=device, vis_data_records_ig=vis_data_records_ig,\\\n",
    "                               token_reference=token_reference, lig=lig, min_len = 7, label = label, \\\n",
    "                               class_names=class_names)\n",
    "    \n",
    "    print(\"Computations completed.\")\n",
    "    return vis_data_records_ig\n",
    "\n",
    "def sentence_to_input_tokens(sentence, vocab_stoi):\n",
    "    input_tokens = []\n",
    "    for word in sentence.split(\" \"):\n",
    "        token = vocab_stoi[word]\n",
    "        input_tokens.append(token)\n",
    "    input_tokens= torch.tensor(input_tokens).unsqueeze(0).permute(1, 0)\n",
    "    return input_tokens"
   ]
  },
  {
   "cell_type": "code",
   "execution_count": 11,
   "metadata": {},
   "outputs": [],
   "source": [
    "def dataset_visualization(model, vocab_stoi, vocab_itos, df,\\\n",
    "                           field, device, max_samples=10,partial_vis=False,class_names=[\"Neutral\",\"Hate\"]):\n",
    "    n = len(df)\n",
    "    if partial_vis:\n",
    "        n = min(n,max_samples)\n",
    "    \n",
    "    vis_data_record = model_explainability(model, vocab_stoi, vocab_itos, df, n,\\\n",
    "                                           field, device, class_names=class_names)\n",
    "    print(\"\\n\\n**LOADING VISUALIZATION**\\n\")\n",
    "    visualize_text(vis_data_record)\n",
    "   "
   ]
  },
  {
   "cell_type": "markdown",
   "metadata": {},
   "source": [
    "# Data Visualization"
   ]
  },
  {
   "cell_type": "markdown",
   "metadata": {},
   "source": [
    "We are now going to visualize words' importances in the decision process. <br>\n",
    "For each category (TP, FP, TN, FN), we visualize importances for both the highest scores and lowest scores."
   ]
  },
  {
   "cell_type": "markdown",
   "metadata": {},
   "source": [
    "## True Positives"
   ]
  },
  {
   "cell_type": "markdown",
   "metadata": {},
   "source": [
    "First we retrieve the highest and lowest scores."
   ]
  },
  {
   "cell_type": "code",
   "execution_count": 12,
   "metadata": {},
   "outputs": [],
   "source": [
    "lowest_stats_df_tp, highest_stats_df_tp = get_highest_lowest_metric_indexes(df_tp, stats_metric='prob', stats_topk=10)"
   ]
  },
  {
   "cell_type": "markdown",
   "metadata": {},
   "source": [
    "#### Highest Scores "
   ]
  },
  {
   "cell_type": "code",
   "execution_count": 13,
   "metadata": {
    "scrolled": false
   },
   "outputs": [
    {
     "name": "stdout",
     "output_type": "stream",
     "text": [
      "\n",
      "\n",
      "**MODEL EXPLAINABILITY**\n",
      "\n",
      "Computing words importance for each sample... \n",
      "Computations completed.\n",
      "\n",
      "\n",
      "**LOADING VISUALIZATION**\n",
      "\n"
     ]
    },
    {
     "data": {
      "text/html": [
       "<table width: 100%><div style=\"border-top: 1px solid; margin-top: 5px;             padding-top: 5px; display: inline-block\"><b>Legend: </b><span style=\"display: inline-block; width: 10px; height: 10px;                 border: 1px solid; background-color:                 hsl(52, 85%, 60%)\"></span> Neutral  <span style=\"display: inline-block; width: 10px; height: 10px;                 border: 1px solid; background-color:                 hsl(0, 75%, 50%)\"></span> Hate  </div><tr><th>True Label</th><th>Predicted Label</th><th>Attribution Label</th><th>Attribution Score</th><th>Word Importance</th><tr><td><text style=\"padding-right:2em\"><b>Hate</b></text></td><td><text style=\"padding-right:2em\"><b>Hate (0.98)</b></text></td><td><text style=\"padding-right:2em\"><b>Hate</b></text></td><td><text style=\"padding-right:2em\"><b>0.84</b></text></td><td><mark style=\"background-color: hsl(0, 75%, 99%); opacity:1.0;                     line-height:1.75\"><font color=\"black\"> 2018                    </font></mark><mark style=\"background-color: hsl(0, 75%, 99%); opacity:1.0;                     line-height:1.75\"><font color=\"black\"> surprised                    </font></mark><mark style=\"background-color: hsl(52, 85%, 98%); opacity:1.0;                     line-height:1.75\"><font color=\"black\"> starts                    </font></mark><mark style=\"background-color: hsl(0, 75%, 97%); opacity:1.0;                     line-height:1.75\"><font color=\"black\"> top                    </font></mark><mark style=\"background-color: hsl(0, 75%, 98%); opacity:1.0;                     line-height:1.75\"><font color=\"black\"> !                    </font></mark><mark style=\"background-color: hsl(0, 75%, 98%); opacity:1.0;                     line-height:1.75\"><font color=\"black\"> !                    </font></mark><mark style=\"background-color: hsl(0, 75%, 99%); opacity:1.0;                     line-height:1.75\"><font color=\"black\"> !                    </font></mark><mark style=\"background-color: hsl(0, 75%, 91%); opacity:1.0;                     line-height:1.75\"><font color=\"black\"> karma                    </font></mark><mark style=\"background-color: hsl(0, 75%, 58%); opacity:1.0;                     line-height:1.75\"><font color=\"black\"> bitch                    </font></mark><mark style=\"background-color: hsl(52, 85%, 83%); opacity:1.0;                     line-height:1.75\"><font color=\"black\"> watch                    </font></mark><mark style=\"background-color: hsl(52, 85%, 97%); opacity:1.0;                     line-height:1.75\"><font color=\"black\"> !                    </font></mark><mark style=\"background-color: hsl(52, 85%, 100%); opacity:1.0;                     line-height:1.75\"><font color=\"black\"> !                    </font></mark><mark style=\"background-color: hsl(0, 75%, 99%); opacity:1.0;                     line-height:1.75\"><font color=\"black\"> !                    </font></mark><mark style=\"background-color: hsl(0, 75%, 93%); opacity:1.0;                     line-height:1.75\"><font color=\"black\"> !                    </font></mark><mark style=\"background-color: hsl(52, 85%, 99%); opacity:1.0;                     line-height:1.75\"><font color=\"black\"> url                    </font></mark><mark style=\"background-color: hsl(52, 85%, 100%); opacity:1.0;                     line-height:1.75\"><font color=\"black\"> #unk                    </font></mark></td><tr><tr><td><text style=\"padding-right:2em\"><b>Hate</b></text></td><td><text style=\"padding-right:2em\"><b>Hate (0.98)</b></text></td><td><text style=\"padding-right:2em\"><b>Hate</b></text></td><td><text style=\"padding-right:2em\"><b>-0.43</b></text></td><td><mark style=\"background-color: hsl(0, 75%, 99%); opacity:1.0;                     line-height:1.75\"><font color=\"black\"> !                    </font></mark><mark style=\"background-color: hsl(0, 75%, 98%); opacity:1.0;                     line-height:1.75\"><font color=\"black\"> !                    </font></mark><mark style=\"background-color: hsl(0, 75%, 98%); opacity:1.0;                     line-height:1.75\"><font color=\"black\"> !                    </font></mark><mark style=\"background-color: hsl(0, 75%, 99%); opacity:1.0;                     line-height:1.75\"><font color=\"black\"> !                    </font></mark><mark style=\"background-color: hsl(0, 75%, 77%); opacity:1.0;                     line-height:1.75\"><font color=\"black\"> bitch                    </font></mark><mark style=\"background-color: hsl(52, 85%, 97%); opacity:1.0;                     line-height:1.75\"><font color=\"black\"> ’m                    </font></mark><mark style=\"background-color: hsl(0, 75%, 83%); opacity:1.0;                     line-height:1.75\"><font color=\"black\"> fucking                    </font></mark><mark style=\"background-color: hsl(52, 85%, 77%); opacity:1.0;                     line-height:1.75\"><font color=\"black\"> coming                    </font></mark><mark style=\"background-color: hsl(52, 85%, 81%); opacity:1.0;                     line-height:1.75\"><font color=\"black\"> back                    </font></mark><mark style=\"background-color: hsl(52, 85%, 91%); opacity:1.0;                     line-height:1.75\"><font color=\"black\"> url                    </font></mark><mark style=\"background-color: hsl(52, 85%, 100%); opacity:1.0;                     line-height:1.75\"><font color=\"black\"> #unk                    </font></mark></td><tr><tr><td><text style=\"padding-right:2em\"><b>Hate</b></text></td><td><text style=\"padding-right:2em\"><b>Hate (0.99)</b></text></td><td><text style=\"padding-right:2em\"><b>Hate</b></text></td><td><text style=\"padding-right:2em\"><b>0.97</b></text></td><td><mark style=\"background-color: hsl(0, 75%, 99%); opacity:1.0;                     line-height:1.75\"><font color=\"black\"> alright                    </font></mark><mark style=\"background-color: hsl(0, 75%, 96%); opacity:1.0;                     line-height:1.75\"><font color=\"black\"> let                    </font></mark><mark style=\"background-color: hsl(52, 85%, 100%); opacity:1.0;                     line-height:1.75\"><font color=\"black\"> get                    </font></mark><mark style=\"background-color: hsl(52, 85%, 100%); opacity:1.0;                     line-height:1.75\"><font color=\"black\"> right                    </font></mark><mark style=\"background-color: hsl(0, 75%, 99%); opacity:1.0;                     line-height:1.75\"><font color=\"black\"> god                    </font></mark><mark style=\"background-color: hsl(52, 85%, 94%); opacity:1.0;                     line-height:1.75\"><font color=\"black\"> bc                    </font></mark><mark style=\"background-color: hsl(0, 75%, 97%); opacity:1.0;                     line-height:1.75\"><font color=\"black\"> mother                    </font></mark><mark style=\"background-color: hsl(0, 75%, 87%); opacity:1.0;                     line-height:1.75\"><font color=\"black\"> nature                    </font></mark><mark style=\"background-color: hsl(0, 75%, 92%); opacity:1.0;                     line-height:1.75\"><font color=\"black\"> like                    </font></mark><mark style=\"background-color: hsl(0, 75%, 58%); opacity:1.0;                     line-height:1.75\"><font color=\"black\"> fuck                    </font></mark><mark style=\"background-color: hsl(0, 75%, 99%); opacity:1.0;                     line-height:1.75\"><font color=\"black\"> humans                    </font></mark><mark style=\"background-color: hsl(52, 85%, 85%); opacity:1.0;                     line-height:1.75\"><font color=\"black\"> url                    </font></mark><mark style=\"background-color: hsl(52, 85%, 100%); opacity:1.0;                     line-height:1.75\"><font color=\"black\"> #unk                    </font></mark></td><tr><tr><td><text style=\"padding-right:2em\"><b>Hate</b></text></td><td><text style=\"padding-right:2em\"><b>Hate (0.98)</b></text></td><td><text style=\"padding-right:2em\"><b>Hate</b></text></td><td><text style=\"padding-right:2em\"><b>0.04</b></text></td><td><mark style=\"background-color: hsl(0, 75%, 97%); opacity:1.0;                     line-height:1.75\"><font color=\"black\"> @user                    </font></mark><mark style=\"background-color: hsl(0, 75%, 90%); opacity:1.0;                     line-height:1.75\"><font color=\"black\"> nigga                    </font></mark><mark style=\"background-color: hsl(0, 75%, 78%); opacity:1.0;                     line-height:1.75\"><font color=\"black\"> stupid                    </font></mark><mark style=\"background-color: hsl(0, 75%, 99%); opacity:1.0;                     line-height:1.75\"><font color=\"black\"> trash                    </font></mark><mark style=\"background-color: hsl(52, 85%, 84%); opacity:1.0;                     line-height:1.75\"><font color=\"black\"> nt                    </font></mark><mark style=\"background-color: hsl(0, 75%, 98%); opacity:1.0;                     line-height:1.75\"><font color=\"black\"> play                    </font></mark><mark style=\"background-color: hsl(52, 85%, 100%); opacity:1.0;                     line-height:1.75\"><font color=\"black\"> play                    </font></mark><mark style=\"background-color: hsl(0, 75%, 73%); opacity:1.0;                     line-height:1.75\"><font color=\"black\"> bitch                    </font></mark><mark style=\"background-color: hsl(52, 85%, 88%); opacity:1.0;                     line-height:1.75\"><font color=\"black\"> :                    </font></mark><mark style=\"background-color: hsl(52, 85%, 94%); opacity:1.0;                     line-height:1.75\"><font color=\"black\"> face_with_tears_of_joy                    </font></mark><mark style=\"background-color: hsl(52, 85%, 85%); opacity:1.0;                     line-height:1.75\"><font color=\"black\"> :                    </font></mark><mark style=\"background-color: hsl(52, 85%, 100%); opacity:1.0;                     line-height:1.75\"><font color=\"black\"> #unk                    </font></mark></td><tr><tr><td><text style=\"padding-right:2em\"><b>Hate</b></text></td><td><text style=\"padding-right:2em\"><b>Hate (0.97)</b></text></td><td><text style=\"padding-right:2em\"><b>Hate</b></text></td><td><text style=\"padding-right:2em\"><b>0.46</b></text></td><td><mark style=\"background-color: hsl(52, 85%, 100%); opacity:1.0;                     line-height:1.75\"><font color=\"black\"> #unk                    </font></mark><mark style=\"background-color: hsl(0, 75%, 100%); opacity:1.0;                     line-height:1.75\"><font color=\"black\"> retweet                    </font></mark><mark style=\"background-color: hsl(52, 85%, 100%); opacity:1.0;                     line-height:1.75\"><font color=\"black\"> 30                    </font></mark><mark style=\"background-color: hsl(0, 75%, 100%); opacity:1.0;                     line-height:1.75\"><font color=\"black\"> would                    </font></mark><mark style=\"background-color: hsl(0, 75%, 98%); opacity:1.0;                     line-height:1.75\"><font color=\"black\"> like                    </font></mark><mark style=\"background-color: hsl(0, 75%, 99%); opacity:1.0;                     line-height:1.75\"><font color=\"black\"> share                    </font></mark><mark style=\"background-color: hsl(0, 75%, 95%); opacity:1.0;                     line-height:1.75\"><font color=\"black\"> memes                    </font></mark><mark style=\"background-color: hsl(0, 75%, 96%); opacity:1.0;                     line-height:1.75\"><font color=\"black\"> talk                    </font></mark><mark style=\"background-color: hsl(0, 75%, 87%); opacity:1.0;                     line-height:1.75\"><font color=\"black\"> dumb                    </font></mark><mark style=\"background-color: hsl(0, 75%, 86%); opacity:1.0;                     line-height:1.75\"><font color=\"black\"> shit                    </font></mark><mark style=\"background-color: hsl(52, 85%, 96%); opacity:1.0;                     line-height:1.75\"><font color=\"black\"> .                    </font></mark><mark style=\"background-color: hsl(52, 85%, 93%); opacity:1.0;                     line-height:1.75\"><font color=\"black\"> cuz                    </font></mark><mark style=\"background-color: hsl(52, 85%, 97%); opacity:1.0;                     line-height:1.75\"><font color=\"black\"> baby                    </font></mark><mark style=\"background-color: hsl(52, 85%, 98%); opacity:1.0;                     line-height:1.75\"><font color=\"black\"> ’m                    </font></mark><mark style=\"background-color: hsl(52, 85%, 97%); opacity:1.0;                     line-height:1.75\"><font color=\"black\"> broke                    </font></mark><mark style=\"background-color: hsl(0, 75%, 62%); opacity:1.0;                     line-height:1.75\"><font color=\"black\"> shit                    </font></mark><mark style=\"background-color: hsl(52, 85%, 94%); opacity:1.0;                     line-height:1.75\"><font color=\"black\"> love                    </font></mark><mark style=\"background-color: hsl(52, 85%, 88%); opacity:1.0;                     line-height:1.75\"><font color=\"black\"> rich                    </font></mark><mark style=\"background-color: hsl(52, 85%, 94%); opacity:1.0;                     line-height:1.75\"><font color=\"black\"> url                    </font></mark><mark style=\"background-color: hsl(52, 85%, 100%); opacity:1.0;                     line-height:1.75\"><font color=\"black\"> #unk                    </font></mark></td><tr><tr><td><text style=\"padding-right:2em\"><b>Hate</b></text></td><td><text style=\"padding-right:2em\"><b>Hate (0.98)</b></text></td><td><text style=\"padding-right:2em\"><b>Hate</b></text></td><td><text style=\"padding-right:2em\"><b>0.10</b></text></td><td><mark style=\"background-color: hsl(0, 75%, 99%); opacity:1.0;                     line-height:1.75\"><font color=\"black\"> @user                    </font></mark><mark style=\"background-color: hsl(0, 75%, 89%); opacity:1.0;                     line-height:1.75\"><font color=\"black\"> damn                    </font></mark><mark style=\"background-color: hsl(52, 85%, 78%); opacity:1.0;                     line-height:1.75\"><font color=\"black\"> felt                    </font></mark><mark style=\"background-color: hsl(0, 75%, 62%); opacity:1.0;                     line-height:1.75\"><font color=\"black\"> shit                    </font></mark><mark style=\"background-color: hsl(52, 85%, 94%); opacity:1.0;                     line-height:1.75\"><font color=\"black\"> .                    </font></mark><mark style=\"background-color: hsl(52, 85%, 94%); opacity:1.0;                     line-height:1.75\"><font color=\"black\"> loud                    </font></mark><mark style=\"background-color: hsl(52, 85%, 100%); opacity:1.0;                     line-height:1.75\"><font color=\"black\"> lol                    </font></mark><mark style=\"background-color: hsl(52, 85%, 100%); opacity:1.0;                     line-height:1.75\"><font color=\"black\"> #unk                    </font></mark></td><tr><tr><td><text style=\"padding-right:2em\"><b>Hate</b></text></td><td><text style=\"padding-right:2em\"><b>Hate (0.98)</b></text></td><td><text style=\"padding-right:2em\"><b>Hate</b></text></td><td><text style=\"padding-right:2em\"><b>-0.58</b></text></td><td><mark style=\"background-color: hsl(52, 85%, 93%); opacity:1.0;                     line-height:1.75\"><font color=\"black\"> pet                    </font></mark><mark style=\"background-color: hsl(0, 75%, 92%); opacity:1.0;                     line-height:1.75\"><font color=\"black\"> ?                    </font></mark><mark style=\"background-color: hsl(0, 75%, 95%); opacity:1.0;                     line-height:1.75\"><font color=\"black\"> ?                    </font></mark><mark style=\"background-color: hsl(52, 85%, 100%); opacity:1.0;                     line-height:1.75\"><font color=\"black\"> ?                    </font></mark><mark style=\"background-color: hsl(0, 75%, 76%); opacity:1.0;                     line-height:1.75\"><font color=\"black\"> fucking                    </font></mark><mark style=\"background-color: hsl(52, 85%, 83%); opacity:1.0;                     line-height:1.75\"><font color=\"black\"> disgusting                    </font></mark><mark style=\"background-color: hsl(52, 85%, 72%); opacity:1.0;                     line-height:1.75\"><font color=\"black\"> url                    </font></mark><mark style=\"background-color: hsl(52, 85%, 100%); opacity:1.0;                     line-height:1.75\"><font color=\"black\"> #unk                    </font></mark></td><tr><tr><td><text style=\"padding-right:2em\"><b>Hate</b></text></td><td><text style=\"padding-right:2em\"><b>Hate (0.97)</b></text></td><td><text style=\"padding-right:2em\"><b>Hate</b></text></td><td><text style=\"padding-right:2em\"><b>1.28</b></text></td><td><mark style=\"background-color: hsl(0, 75%, 89%); opacity:1.0;                     line-height:1.75\"><font color=\"black\"> ai                    </font></mark><mark style=\"background-color: hsl(0, 75%, 96%); opacity:1.0;                     line-height:1.75\"><font color=\"black\"> n’t                    </font></mark><mark style=\"background-color: hsl(0, 75%, 85%); opacity:1.0;                     line-height:1.75\"><font color=\"black\"> nobody                    </font></mark><mark style=\"background-color: hsl(0, 75%, 55%); opacity:1.0;                     line-height:1.75\"><font color=\"black\"> shit                    </font></mark><mark style=\"background-color: hsl(52, 85%, 100%); opacity:1.0;                     line-height:1.75\"><font color=\"black\"> ask                    </font></mark><mark style=\"background-color: hsl(52, 85%, 99%); opacity:1.0;                     line-height:1.75\"><font color=\"black\"> ...                    </font></mark><mark style=\"background-color: hsl(52, 85%, 98%); opacity:1.0;                     line-height:1.75\"><font color=\"black\"> including                    </font></mark><mark style=\"background-color: hsl(52, 85%, 95%); opacity:1.0;                     line-height:1.75\"><font color=\"black\"> .                    </font></mark><mark style=\"background-color: hsl(52, 85%, 100%); opacity:1.0;                     line-height:1.75\"><font color=\"black\"> #unk                    </font></mark></td><tr><tr><td><text style=\"padding-right:2em\"><b>Hate</b></text></td><td><text style=\"padding-right:2em\"><b>Hate (0.98)</b></text></td><td><text style=\"padding-right:2em\"><b>Hate</b></text></td><td><text style=\"padding-right:2em\"><b>1.32</b></text></td><td><mark style=\"background-color: hsl(52, 85%, 100%); opacity:1.0;                     line-height:1.75\"><font color=\"black\"> ’m                    </font></mark><mark style=\"background-color: hsl(52, 85%, 99%); opacity:1.0;                     line-height:1.75\"><font color=\"black\"> saying                    </font></mark><mark style=\"background-color: hsl(0, 75%, 94%); opacity:1.0;                     line-height:1.75\"><font color=\"black\"> cool                    </font></mark><mark style=\"background-color: hsl(0, 75%, 88%); opacity:1.0;                     line-height:1.75\"><font color=\"black\"> feel                    </font></mark><mark style=\"background-color: hsl(52, 85%, 94%); opacity:1.0;                     line-height:1.75\"><font color=\"black\"> type                    </font></mark><mark style=\"background-color: hsl(0, 75%, 94%); opacity:1.0;                     line-height:1.75\"><font color=\"black\"> way                    </font></mark><mark style=\"background-color: hsl(0, 75%, 93%); opacity:1.0;                     line-height:1.75\"><font color=\"black\"> ..                    </font></mark><mark style=\"background-color: hsl(0, 75%, 97%); opacity:1.0;                     line-height:1.75\"><font color=\"black\"> speak                    </font></mark><mark style=\"background-color: hsl(0, 75%, 55%); opacity:1.0;                     line-height:1.75\"><font color=\"black\"> fuck                    </font></mark><mark style=\"background-color: hsl(52, 85%, 96%); opacity:1.0;                     line-height:1.75\"><font color=\"black\"> .                    </font></mark><mark style=\"background-color: hsl(52, 85%, 100%); opacity:1.0;                     line-height:1.75\"><font color=\"black\"> #unk                    </font></mark></td><tr><tr><td><text style=\"padding-right:2em\"><b>Hate</b></text></td><td><text style=\"padding-right:2em\"><b>Hate (0.98)</b></text></td><td><text style=\"padding-right:2em\"><b>Hate</b></text></td><td><text style=\"padding-right:2em\"><b>-0.11</b></text></td><td><mark style=\"background-color: hsl(52, 85%, 100%); opacity:1.0;                     line-height:1.75\"><font color=\"black\"> #unk                    </font></mark><mark style=\"background-color: hsl(52, 85%, 97%); opacity:1.0;                     line-height:1.75\"><font color=\"black\"> agencies                    </font></mark><mark style=\"background-color: hsl(52, 85%, 100%); opacity:1.0;                     line-height:1.75\"><font color=\"black\"> gon                    </font></mark><mark style=\"background-color: hsl(0, 75%, 89%); opacity:1.0;                     line-height:1.75\"><font color=\"black\"> na                    </font></mark><mark style=\"background-color: hsl(0, 75%, 69%); opacity:1.0;                     line-height:1.75\"><font color=\"black\"> ass                    </font></mark><mark style=\"background-color: hsl(52, 85%, 93%); opacity:1.0;                     line-height:1.75\"><font color=\"black\"> .                    </font></mark><mark style=\"background-color: hsl(52, 85%, 72%); opacity:1.0;                     line-height:1.75\"><font color=\"black\"> url                    </font></mark><mark style=\"background-color: hsl(52, 85%, 100%); opacity:1.0;                     line-height:1.75\"><font color=\"black\"> #unk                    </font></mark></td><tr></table>"
      ],
      "text/plain": [
       "<IPython.core.display.HTML object>"
      ]
     },
     "metadata": {},
     "output_type": "display_data"
    }
   ],
   "source": [
    "dataset_visualization(model, vocab_stoi, vocab_itos, highest_stats_df_tp,\\\n",
    "                      field, device, max_samples=10,partial_vis=True,class_names=[\"Neutral\",\"Hate\"])"
   ]
  },
  {
   "cell_type": "markdown",
   "metadata": {},
   "source": [
    "## False Positives"
   ]
  },
  {
   "cell_type": "code",
   "execution_count": 14,
   "metadata": {},
   "outputs": [],
   "source": [
    "lowest_stats_df_fp, highest_stats_df_fp = get_highest_lowest_metric_indexes(df_fp, stats_metric='prob', stats_topk=10)"
   ]
  },
  {
   "cell_type": "markdown",
   "metadata": {},
   "source": [
    "#### Highest Scores"
   ]
  },
  {
   "cell_type": "code",
   "execution_count": 15,
   "metadata": {},
   "outputs": [
    {
     "name": "stdout",
     "output_type": "stream",
     "text": [
      "\n",
      "\n",
      "**MODEL EXPLAINABILITY**\n",
      "\n",
      "Computing words importance for each sample... \n",
      "Computations completed.\n",
      "\n",
      "\n",
      "**LOADING VISUALIZATION**\n",
      "\n"
     ]
    },
    {
     "data": {
      "text/html": [
       "<table width: 100%><div style=\"border-top: 1px solid; margin-top: 5px;             padding-top: 5px; display: inline-block\"><b>Legend: </b><span style=\"display: inline-block; width: 10px; height: 10px;                 border: 1px solid; background-color:                 hsl(52, 85%, 60%)\"></span> Neutral  <span style=\"display: inline-block; width: 10px; height: 10px;                 border: 1px solid; background-color:                 hsl(0, 75%, 50%)\"></span> Hate  </div><tr><th>True Label</th><th>Predicted Label</th><th>Attribution Label</th><th>Attribution Score</th><th>Word Importance</th><tr><td><text style=\"padding-right:2em\"><b>Neutral</b></text></td><td><text style=\"padding-right:2em\"><b>Hate (0.98)</b></text></td><td><text style=\"padding-right:2em\"><b>Hate</b></text></td><td><text style=\"padding-right:2em\"><b>2.53</b></text></td><td><mark style=\"background-color: hsl(52, 85%, 100%); opacity:1.0;                     line-height:1.75\"><font color=\"black\"> @user                    </font></mark><mark style=\"background-color: hsl(52, 85%, 100%); opacity:1.0;                     line-height:1.75\"><font color=\"black\"> @user                    </font></mark><mark style=\"background-color: hsl(52, 85%, 100%); opacity:1.0;                     line-height:1.75\"><font color=\"black\"> @user                    </font></mark><mark style=\"background-color: hsl(0, 75%, 100%); opacity:1.0;                     line-height:1.75\"><font color=\"black\"> got                    </font></mark><mark style=\"background-color: hsl(52, 85%, 100%); opacity:1.0;                     line-height:1.75\"><font color=\"black\"> pretty                    </font></mark><mark style=\"background-color: hsl(0, 75%, 99%); opacity:1.0;                     line-height:1.75\"><font color=\"black\"> deep                    </font></mark><mark style=\"background-color: hsl(52, 85%, 100%); opacity:1.0;                     line-height:1.75\"><font color=\"black\"> debate                    </font></mark><mark style=\"background-color: hsl(0, 75%, 99%); opacity:1.0;                     line-height:1.75\"><font color=\"black\"> friend                    </font></mark><mark style=\"background-color: hsl(0, 75%, 100%); opacity:1.0;                     line-height:1.75\"><font color=\"black\"> told                    </font></mark><mark style=\"background-color: hsl(52, 85%, 100%); opacity:1.0;                     line-height:1.75\"><font color=\"black\"> #unk                    </font></mark><mark style=\"background-color: hsl(0, 75%, 99%); opacity:1.0;                     line-height:1.75\"><font color=\"black\"> trump                    </font></mark><mark style=\"background-color: hsl(0, 75%, 97%); opacity:1.0;                     line-height:1.75\"><font color=\"black\"> blacks                    </font></mark><mark style=\"background-color: hsl(0, 75%, 99%); opacity:1.0;                     line-height:1.75\"><font color=\"black\"> trump                    </font></mark><mark style=\"background-color: hsl(0, 75%, 98%); opacity:1.0;                     line-height:1.75\"><font color=\"black\"> paid                    </font></mark><mark style=\"background-color: hsl(0, 75%, 96%); opacity:1.0;                     line-height:1.75\"><font color=\"black\"> supporters                    </font></mark><mark style=\"background-color: hsl(0, 75%, 100%); opacity:1.0;                     line-height:1.75\"><font color=\"black\"> :                    </font></mark><mark style=\"background-color: hsl(0, 75%, 96%); opacity:1.0;                     line-height:1.75\"><font color=\"black\"> face_with_tears_of_joy                    </font></mark><mark style=\"background-color: hsl(0, 75%, 100%); opacity:1.0;                     line-height:1.75\"><font color=\"black\"> :                    </font></mark><mark style=\"background-color: hsl(0, 75%, 88%); opacity:1.0;                     line-height:1.75\"><font color=\"black\"> said                    </font></mark><mark style=\"background-color: hsl(0, 75%, 97%); opacity:1.0;                     line-height:1.75\"><font color=\"black\"> mean                    </font></mark><mark style=\"background-color: hsl(0, 75%, 97%); opacity:1.0;                     line-height:1.75\"><font color=\"black\"> antifa                    </font></mark><mark style=\"background-color: hsl(0, 75%, 93%); opacity:1.0;                     line-height:1.75\"><font color=\"black\"> paid                    </font></mark><mark style=\"background-color: hsl(0, 75%, 99%); opacity:1.0;                     line-height:1.75\"><font color=\"black\"> domestic                    </font></mark><mark style=\"background-color: hsl(0, 75%, 90%); opacity:1.0;                     line-height:1.75\"><font color=\"black\"> terrorist                    </font></mark><mark style=\"background-color: hsl(0, 75%, 87%); opacity:1.0;                     line-height:1.75\"><font color=\"black\"> said                    </font></mark><mark style=\"background-color: hsl(0, 75%, 100%); opacity:1.0;                     line-height:1.75\"><font color=\"black\"> anti                    </font></mark><mark style=\"background-color: hsl(52, 85%, 95%); opacity:1.0;                     line-height:1.75\"><font color=\"black\"> -                    </font></mark><mark style=\"background-color: hsl(0, 75%, 73%); opacity:1.0;                     line-height:1.75\"><font color=\"black\"> fascist                    </font></mark><mark style=\"background-color: hsl(0, 75%, 92%); opacity:1.0;                     line-height:1.75\"><font color=\"black\"> said                    </font></mark><mark style=\"background-color: hsl(0, 75%, 73%); opacity:1.0;                     line-height:1.75\"><font color=\"black\"> fascist                    </font></mark><mark style=\"background-color: hsl(52, 85%, 89%); opacity:1.0;                     line-height:1.75\"><font color=\"black\"> kidding                    </font></mark><mark style=\"background-color: hsl(0, 75%, 98%); opacity:1.0;                     line-height:1.75\"><font color=\"black\"> ?                    </font></mark><mark style=\"background-color: hsl(0, 75%, 93%); opacity:1.0;                     line-height:1.75\"><font color=\"black\"> !                    </font></mark><mark style=\"background-color: hsl(52, 85%, 100%); opacity:1.0;                     line-height:1.75\"><font color=\"black\"> #unk                    </font></mark></td><tr><tr><td><text style=\"padding-right:2em\"><b>Neutral</b></text></td><td><text style=\"padding-right:2em\"><b>Hate (0.97)</b></text></td><td><text style=\"padding-right:2em\"><b>Hate</b></text></td><td><text style=\"padding-right:2em\"><b>2.58</b></text></td><td><mark style=\"background-color: hsl(0, 75%, 100%); opacity:1.0;                     line-height:1.75\"><font color=\"black\"> antifa                    </font></mark><mark style=\"background-color: hsl(0, 75%, 98%); opacity:1.0;                     line-height:1.75\"><font color=\"black\"> resist                    </font></mark><mark style=\"background-color: hsl(0, 75%, 99%); opacity:1.0;                     line-height:1.75\"><font color=\"black\"> ..                    </font></mark><mark style=\"background-color: hsl(52, 85%, 99%); opacity:1.0;                     line-height:1.75\"><font color=\"black\"> trump                    </font></mark><mark style=\"background-color: hsl(0, 75%, 100%); opacity:1.0;                     line-height:1.75\"><font color=\"black\"> trying                    </font></mark><mark style=\"background-color: hsl(0, 75%, 99%); opacity:1.0;                     line-height:1.75\"><font color=\"black\"> bring                    </font></mark><mark style=\"background-color: hsl(0, 75%, 100%); opacity:1.0;                     line-height:1.75\"><font color=\"black\"> world                    </font></mark><mark style=\"background-color: hsl(0, 75%, 97%); opacity:1.0;                     line-height:1.75\"><font color=\"black\"> peace                    </font></mark><mark style=\"background-color: hsl(0, 75%, 94%); opacity:1.0;                     line-height:1.75\"><font color=\"black\"> ,                    </font></mark><mark style=\"background-color: hsl(0, 75%, 99%); opacity:1.0;                     line-height:1.75\"><font color=\"black\"> obstruct                    </font></mark><mark style=\"background-color: hsl(0, 75%, 88%); opacity:1.0;                     line-height:1.75\"><font color=\"black\"> like                    </font></mark><mark style=\"background-color: hsl(0, 75%, 84%); opacity:1.0;                     line-height:1.75\"><font color=\"black\"> democrats                    </font></mark><mark style=\"background-color: hsl(0, 75%, 83%); opacity:1.0;                     line-height:1.75\"><font color=\"black\"> ..                    </font></mark><mark style=\"background-color: hsl(0, 75%, 94%); opacity:1.0;                     line-height:1.75\"><font color=\"black\"> good                    </font></mark><mark style=\"background-color: hsl(0, 75%, 95%); opacity:1.0;                     line-height:1.75\"><font color=\"black\"> also                    </font></mark><mark style=\"background-color: hsl(0, 75%, 93%); opacity:1.0;                     line-height:1.75\"><font color=\"black\"> ?                    </font></mark><mark style=\"background-color: hsl(0, 75%, 94%); opacity:1.0;                     line-height:1.75\"><font color=\"black\"> haters                    </font></mark><mark style=\"background-color: hsl(0, 75%, 86%); opacity:1.0;                     line-height:1.75\"><font color=\"black\"> gon                    </font></mark><mark style=\"background-color: hsl(0, 75%, 86%); opacity:1.0;                     line-height:1.75\"><font color=\"black\"> na                    </font></mark><mark style=\"background-color: hsl(0, 75%, 72%); opacity:1.0;                     line-height:1.75\"><font color=\"black\"> hate                    </font></mark><mark style=\"background-color: hsl(52, 85%, 99%); opacity:1.0;                     line-height:1.75\"><font color=\"black\"> ?                    </font></mark><mark style=\"background-color: hsl(52, 85%, 88%); opacity:1.0;                     line-height:1.75\"><font color=\"black\"> url                    </font></mark><mark style=\"background-color: hsl(52, 85%, 100%); opacity:1.0;                     line-height:1.75\"><font color=\"black\"> #unk                    </font></mark></td><tr><tr><td><text style=\"padding-right:2em\"><b>Neutral</b></text></td><td><text style=\"padding-right:2em\"><b>Hate (0.94)</b></text></td><td><text style=\"padding-right:2em\"><b>Hate</b></text></td><td><text style=\"padding-right:2em\"><b>2.41</b></text></td><td><mark style=\"background-color: hsl(0, 75%, 98%); opacity:1.0;                     line-height:1.75\"><font color=\"black\"> hiac                    </font></mark><mark style=\"background-color: hsl(0, 75%, 85%); opacity:1.0;                     line-height:1.75\"><font color=\"black\"> damn                    </font></mark><mark style=\"background-color: hsl(0, 75%, 97%); opacity:1.0;                     line-height:1.75\"><font color=\"black\"> matt                    </font></mark><mark style=\"background-color: hsl(0, 75%, 92%); opacity:1.0;                     line-height:1.75\"><font color=\"black\"> hardy                    </font></mark><mark style=\"background-color: hsl(52, 85%, 100%); opacity:1.0;                     line-height:1.75\"><font color=\"black\"> #unk                    </font></mark><mark style=\"background-color: hsl(0, 75%, 97%); opacity:1.0;                     line-height:1.75\"><font color=\"black\"> orton                    </font></mark><mark style=\"background-color: hsl(0, 75%, 91%); opacity:1.0;                     line-height:1.75\"><font color=\"black\"> put                    </font></mark><mark style=\"background-color: hsl(52, 85%, 97%); opacity:1.0;                     line-height:1.75\"><font color=\"black\"> one                    </font></mark><mark style=\"background-color: hsl(0, 75%, 77%); opacity:1.0;                     line-height:1.75\"><font color=\"black\"> hell                    </font></mark><mark style=\"background-color: hsl(52, 85%, 96%); opacity:1.0;                     line-height:1.75\"><font color=\"black\"> cell                    </font></mark><mark style=\"background-color: hsl(0, 75%, 81%); opacity:1.0;                     line-height:1.75\"><font color=\"black\"> match                    </font></mark><mark style=\"background-color: hsl(0, 75%, 98%); opacity:1.0;                     line-height:1.75\"><font color=\"black\"> !                    </font></mark><mark style=\"background-color: hsl(0, 75%, 99%); opacity:1.0;                     line-height:1.75\"><font color=\"black\"> !                    </font></mark><mark style=\"background-color: hsl(52, 85%, 100%); opacity:1.0;                     line-height:1.75\"><font color=\"black\"> #unk                    </font></mark><mark style=\"background-color: hsl(0, 75%, 91%); opacity:1.0;                     line-height:1.75\"><font color=\"black\"> !                    </font></mark><mark style=\"background-color: hsl(0, 75%, 93%); opacity:1.0;                     line-height:1.75\"><font color=\"black\"> !                    </font></mark><mark style=\"background-color: hsl(0, 75%, 96%); opacity:1.0;                     line-height:1.75\"><font color=\"black\"> !                    </font></mark><mark style=\"background-color: hsl(52, 85%, 84%); opacity:1.0;                     line-height:1.75\"><font color=\"black\"> hope                    </font></mark><mark style=\"background-color: hsl(0, 75%, 89%); opacity:1.0;                     line-height:1.75\"><font color=\"black\"> okay                    </font></mark><mark style=\"background-color: hsl(0, 75%, 87%); opacity:1.0;                     line-height:1.75\"><font color=\"black\"> !                    </font></mark><mark style=\"background-color: hsl(0, 75%, 87%); opacity:1.0;                     line-height:1.75\"><font color=\"black\"> !                    </font></mark><mark style=\"background-color: hsl(52, 85%, 100%); opacity:1.0;                     line-height:1.75\"><font color=\"black\"> #unk                    </font></mark></td><tr><tr><td><text style=\"padding-right:2em\"><b>Neutral</b></text></td><td><text style=\"padding-right:2em\"><b>Hate (0.92)</b></text></td><td><text style=\"padding-right:2em\"><b>Hate</b></text></td><td><text style=\"padding-right:2em\"><b>1.56</b></text></td><td><mark style=\"background-color: hsl(0, 75%, 94%); opacity:1.0;                     line-height:1.75\"><font color=\"black\"> democrats                    </font></mark><mark style=\"background-color: hsl(52, 85%, 100%); opacity:1.0;                     line-height:1.75\"><font color=\"black\"> liberals                    </font></mark><mark style=\"background-color: hsl(0, 75%, 99%); opacity:1.0;                     line-height:1.75\"><font color=\"black\"> accuse                    </font></mark><mark style=\"background-color: hsl(0, 75%, 99%); opacity:1.0;                     line-height:1.75\"><font color=\"black\"> brettkavanaugh                    </font></mark><mark style=\"background-color: hsl(0, 75%, 98%); opacity:1.0;                     line-height:1.75\"><font color=\"black\"> proof                    </font></mark><mark style=\"background-color: hsl(0, 75%, 99%); opacity:1.0;                     line-height:1.75\"><font color=\"black\"> !                    </font></mark><mark style=\"background-color: hsl(0, 75%, 99%); opacity:1.0;                     line-height:1.75\"><font color=\"black\"> !                    </font></mark><mark style=\"background-color: hsl(0, 75%, 97%); opacity:1.0;                     line-height:1.75\"><font color=\"black\"> meanwhile                    </font></mark><mark style=\"background-color: hsl(0, 75%, 97%); opacity:1.0;                     line-height:1.75\"><font color=\"black\"> supported                    </font></mark><mark style=\"background-color: hsl(52, 85%, 100%); opacity:1.0;                     line-height:1.75\"><font color=\"black\"> #unk                    </font></mark><mark style=\"background-color: hsl(0, 75%, 100%); opacity:1.0;                     line-height:1.75\"><font color=\"black\"> run                    </font></mark><mark style=\"background-color: hsl(0, 75%, 100%); opacity:1.0;                     line-height:1.75\"><font color=\"black\"> @user                    </font></mark><mark style=\"background-color: hsl(0, 75%, 88%); opacity:1.0;                     line-height:1.75\"><font color=\"black\"> called                    </font></mark><mark style=\"background-color: hsl(52, 85%, 98%); opacity:1.0;                     line-height:1.75\"><font color=\"black\"> lion                    </font></mark><mark style=\"background-color: hsl(52, 85%, 99%); opacity:1.0;                     line-height:1.75\"><font color=\"black\"> senate                    </font></mark><mark style=\"background-color: hsl(0, 75%, 67%); opacity:1.0;                     line-height:1.75\"><font color=\"black\"> killed                    </font></mark><mark style=\"background-color: hsl(0, 75%, 77%); opacity:1.0;                     line-height:1.75\"><font color=\"black\"> woman                    </font></mark><mark style=\"background-color: hsl(52, 85%, 97%); opacity:1.0;                     line-height:1.75\"><font color=\"black\"> .                    </font></mark><mark style=\"background-color: hsl(0, 75%, 86%); opacity:1.0;                     line-height:1.75\"><font color=\"black\"> wednesdaywisdom                    </font></mark><mark style=\"background-color: hsl(0, 75%, 97%); opacity:1.0;                     line-height:1.75\"><font color=\"black\"> news                    </font></mark><mark style=\"background-color: hsl(52, 85%, 97%); opacity:1.0;                     line-height:1.75\"><font color=\"black\"> trump                    </font></mark><mark style=\"background-color: hsl(52, 85%, 86%); opacity:1.0;                     line-height:1.75\"><font color=\"black\"> url                    </font></mark><mark style=\"background-color: hsl(52, 85%, 100%); opacity:1.0;                     line-height:1.75\"><font color=\"black\"> #unk                    </font></mark></td><tr><tr><td><text style=\"padding-right:2em\"><b>Neutral</b></text></td><td><text style=\"padding-right:2em\"><b>Hate (0.95)</b></text></td><td><text style=\"padding-right:2em\"><b>Hate</b></text></td><td><text style=\"padding-right:2em\"><b>-0.70</b></text></td><td><mark style=\"background-color: hsl(0, 75%, 77%); opacity:1.0;                     line-height:1.75\"><font color=\"black\"> fucking                    </font></mark><mark style=\"background-color: hsl(52, 85%, 91%); opacity:1.0;                     line-height:1.75\"><font color=\"black\"> serious                    </font></mark><mark style=\"background-color: hsl(52, 85%, 97%); opacity:1.0;                     line-height:1.75\"><font color=\"black\"> ?                    </font></mark><mark style=\"background-color: hsl(52, 85%, 67%); opacity:1.0;                     line-height:1.75\"><font color=\"black\"> url                    </font></mark><mark style=\"background-color: hsl(52, 85%, 100%); opacity:1.0;                     line-height:1.75\"><font color=\"black\"> #unk                    </font></mark><mark style=\"background-color: hsl(52, 85%, 100%); opacity:1.0;                     line-height:1.75\"><font color=\"black\"> #unk                    </font></mark><mark style=\"background-color: hsl(52, 85%, 100%); opacity:1.0;                     line-height:1.75\"><font color=\"black\"> #unk                    </font></mark></td><tr><tr><td><text style=\"padding-right:2em\"><b>Neutral</b></text></td><td><text style=\"padding-right:2em\"><b>Hate (0.92)</b></text></td><td><text style=\"padding-right:2em\"><b>Hate</b></text></td><td><text style=\"padding-right:2em\"><b>1.61</b></text></td><td><mark style=\"background-color: hsl(0, 75%, 94%); opacity:1.0;                     line-height:1.75\"><font color=\"black\"> american                    </font></mark><mark style=\"background-color: hsl(52, 85%, 100%); opacity:1.0;                     line-height:1.75\"><font color=\"black\"> #unk                    </font></mark><mark style=\"background-color: hsl(0, 75%, 91%); opacity:1.0;                     line-height:1.75\"><font color=\"black\"> really                    </font></mark><mark style=\"background-color: hsl(0, 75%, 100%); opacity:1.0;                     line-height:1.75\"><font color=\"black\"> one                    </font></mark><mark style=\"background-color: hsl(0, 75%, 98%); opacity:1.0;                     line-height:1.75\"><font color=\"black\"> underrated                    </font></mark><mark style=\"background-color: hsl(52, 85%, 100%); opacity:1.0;                     line-height:1.75\"><font color=\"black\"> #unk                    </font></mark><mark style=\"background-color: hsl(0, 75%, 97%); opacity:1.0;                     line-height:1.75\"><font color=\"black\"> ever                    </font></mark><mark style=\"background-color: hsl(0, 75%, 97%); opacity:1.0;                     line-height:1.75\"><font color=\"black\"> ever                    </font></mark><mark style=\"background-color: hsl(0, 75%, 95%); opacity:1.0;                     line-height:1.75\"><font color=\"black\"> ever                    </font></mark><mark style=\"background-color: hsl(52, 85%, 98%); opacity:1.0;                     line-height:1.75\"><font color=\"black\"> .                    </font></mark><mark style=\"background-color: hsl(0, 75%, 53%); opacity:1.0;                     line-height:1.75\"><font color=\"black\"> fuck                    </font></mark><mark style=\"background-color: hsl(52, 85%, 98%); opacity:1.0;                     line-height:1.75\"><font color=\"black\"> cried                    </font></mark><mark style=\"background-color: hsl(0, 75%, 91%); opacity:1.0;                     line-height:1.75\"><font color=\"black\"> scene                    </font></mark><mark style=\"background-color: hsl(52, 85%, 100%); opacity:1.0;                     line-height:1.75\"><font color=\"black\"> #unk                    </font></mark></td><tr><tr><td><text style=\"padding-right:2em\"><b>Neutral</b></text></td><td><text style=\"padding-right:2em\"><b>Hate (0.91)</b></text></td><td><text style=\"padding-right:2em\"><b>Hate</b></text></td><td><text style=\"padding-right:2em\"><b>2.91</b></text></td><td><mark style=\"background-color: hsl(0, 75%, 99%); opacity:1.0;                     line-height:1.75\"><font color=\"black\"> 3                    </font></mark><mark style=\"background-color: hsl(0, 75%, 98%); opacity:1.0;                     line-height:1.75\"><font color=\"black\"> days                    </font></mark><mark style=\"background-color: hsl(0, 75%, 98%); opacity:1.0;                     line-height:1.75\"><font color=\"black\"> bbc                    </font></mark><mark style=\"background-color: hsl(0, 75%, 98%); opacity:1.0;                     line-height:1.75\"><font color=\"black\"> radio                    </font></mark><mark style=\"background-color: hsl(0, 75%, 96%); opacity:1.0;                     line-height:1.75\"><font color=\"black\"> 2                    </font></mark><mark style=\"background-color: hsl(0, 75%, 96%); opacity:1.0;                     line-height:1.75\"><font color=\"black\"> ’s                    </font></mark><mark style=\"background-color: hsl(52, 85%, 100%); opacity:1.0;                     line-height:1.75\"><font color=\"black\"> #unk                    </font></mark><mark style=\"background-color: hsl(0, 75%, 100%); opacity:1.0;                     line-height:1.75\"><font color=\"black\"> day                    </font></mark><mark style=\"background-color: hsl(0, 75%, 97%); opacity:1.0;                     line-height:1.75\"><font color=\"black\"> ,                    </font></mark><mark style=\"background-color: hsl(0, 75%, 93%); opacity:1.0;                     line-height:1.75\"><font color=\"black\"> decide                    </font></mark><mark style=\"background-color: hsl(52, 85%, 100%); opacity:1.0;                     line-height:1.75\"><font color=\"black\"> tell                    </font></mark><mark style=\"background-color: hsl(0, 75%, 99%); opacity:1.0;                     line-height:1.75\"><font color=\"black\"> us                    </font></mark><mark style=\"background-color: hsl(0, 75%, 88%); opacity:1.0;                     line-height:1.75\"><font color=\"black\"> headline                    </font></mark><mark style=\"background-color: hsl(0, 75%, 93%); opacity:1.0;                     line-height:1.75\"><font color=\"black\"> act                    </font></mark><mark style=\"background-color: hsl(0, 75%, 100%); opacity:1.0;                     line-height:1.75\"><font color=\"black\"> n’t                    </font></mark><mark style=\"background-color: hsl(0, 75%, 94%); opacity:1.0;                     line-height:1.75\"><font color=\"black\"> coming                    </font></mark><mark style=\"background-color: hsl(0, 75%, 97%); opacity:1.0;                     line-height:1.75\"><font color=\"black\"> anymore                    </font></mark><mark style=\"background-color: hsl(52, 85%, 98%); opacity:1.0;                     line-height:1.75\"><font color=\"black\"> .                    </font></mark><mark style=\"background-color: hsl(52, 85%, 98%); opacity:1.0;                     line-height:1.75\"><font color=\"black\"> thanks                    </font></mark><mark style=\"background-color: hsl(0, 75%, 98%); opacity:1.0;                     line-height:1.75\"><font color=\"black\"> lot                    </font></mark><mark style=\"background-color: hsl(0, 75%, 98%); opacity:1.0;                     line-height:1.75\"><font color=\"black\"> ,                    </font></mark><mark style=\"background-color: hsl(0, 75%, 91%); opacity:1.0;                     line-height:1.75\"><font color=\"black\"> ’ve                    </font></mark><mark style=\"background-color: hsl(0, 75%, 91%); opacity:1.0;                     line-height:1.75\"><font color=\"black\"> paid                    </font></mark><mark style=\"background-color: hsl(52, 85%, 100%); opacity:1.0;                     line-height:1.75\"><font color=\"black\"> #unk                    </font></mark><mark style=\"background-color: hsl(0, 75%, 100%); opacity:1.0;                     line-height:1.75\"><font color=\"black\"> see                    </font></mark><mark style=\"background-color: hsl(52, 85%, 100%); opacity:1.0;                     line-height:1.75\"><font color=\"black\"> #unk                    </font></mark><mark style=\"background-color: hsl(0, 75%, 90%); opacity:1.0;                     line-height:1.75\"><font color=\"black\"> acts                    </font></mark><mark style=\"background-color: hsl(0, 75%, 60%); opacity:1.0;                     line-height:1.75\"><font color=\"black\"> shit                    </font></mark><mark style=\"background-color: hsl(0, 75%, 99%); opacity:1.0;                     line-height:1.75\"><font color=\"black\"> interest                    </font></mark><mark style=\"background-color: hsl(0, 75%, 100%); opacity:1.0;                     line-height:1.75\"><font color=\"black\"> :                    </font></mark><mark style=\"background-color: hsl(0, 75%, 96%); opacity:1.0;                     line-height:1.75\"><font color=\"black\"> expressionless_face                    </font></mark><mark style=\"background-color: hsl(52, 85%, 100%); opacity:1.0;                     line-height:1.75\"><font color=\"black\"> :                    </font></mark><mark style=\"background-color: hsl(0, 75%, 100%); opacity:1.0;                     line-height:1.75\"><font color=\"black\"> :                    </font></mark><mark style=\"background-color: hsl(0, 75%, 91%); opacity:1.0;                     line-height:1.75\"><font color=\"black\"> thumbs_up_light_skin_tone                    </font></mark><mark style=\"background-color: hsl(52, 85%, 100%); opacity:1.0;                     line-height:1.75\"><font color=\"black\"> :                    </font></mark><mark style=\"background-color: hsl(52, 85%, 100%); opacity:1.0;                     line-height:1.75\"><font color=\"black\"> #unk                    </font></mark></td><tr><tr><td><text style=\"padding-right:2em\"><b>Neutral</b></text></td><td><text style=\"padding-right:2em\"><b>Hate (0.94)</b></text></td><td><text style=\"padding-right:2em\"><b>Hate</b></text></td><td><text style=\"padding-right:2em\"><b>1.84</b></text></td><td><mark style=\"background-color: hsl(0, 75%, 100%); opacity:1.0;                     line-height:1.75\"><font color=\"black\"> @user                    </font></mark><mark style=\"background-color: hsl(52, 85%, 100%); opacity:1.0;                     line-height:1.75\"><font color=\"black\"> exactly                    </font></mark><mark style=\"background-color: hsl(0, 75%, 100%); opacity:1.0;                     line-height:1.75\"><font color=\"black\"> ’s                    </font></mark><mark style=\"background-color: hsl(52, 85%, 100%); opacity:1.0;                     line-height:1.75\"><font color=\"black\"> bc                    </font></mark><mark style=\"background-color: hsl(0, 75%, 97%); opacity:1.0;                     line-height:1.75\"><font color=\"black\"> slick                    </font></mark><mark style=\"background-color: hsl(0, 75%, 100%); opacity:1.0;                     line-height:1.75\"><font color=\"black\"> woods                    </font></mark><mark style=\"background-color: hsl(52, 85%, 100%); opacity:1.0;                     line-height:1.75\"><font color=\"black\"> #unk                    </font></mark><mark style=\"background-color: hsl(0, 75%, 95%); opacity:1.0;                     line-height:1.75\"><font color=\"black\"> look                    </font></mark><mark style=\"background-color: hsl(0, 75%, 96%); opacity:1.0;                     line-height:1.75\"><font color=\"black\"> ’s                    </font></mark><mark style=\"background-color: hsl(0, 75%, 97%); opacity:1.0;                     line-height:1.75\"><font color=\"black\"> yea                    </font></mark><mark style=\"background-color: hsl(0, 75%, 84%); opacity:1.0;                     line-height:1.75\"><font color=\"black\"> ai                    </font></mark><mark style=\"background-color: hsl(0, 75%, 93%); opacity:1.0;                     line-height:1.75\"><font color=\"black\"> n’t                    </font></mark><mark style=\"background-color: hsl(0, 75%, 93%); opacity:1.0;                     line-height:1.75\"><font color=\"black\"> attractive                    </font></mark><mark style=\"background-color: hsl(0, 75%, 97%); opacity:1.0;                     line-height:1.75\"><font color=\"black\"> us                    </font></mark><mark style=\"background-color: hsl(0, 75%, 57%); opacity:1.0;                     line-height:1.75\"><font color=\"black\"> shit                    </font></mark><mark style=\"background-color: hsl(52, 85%, 99%); opacity:1.0;                     line-height:1.75\"><font color=\"black\"> n’t                    </font></mark><mark style=\"background-color: hsl(52, 85%, 93%); opacity:1.0;                     line-height:1.75\"><font color=\"black\"> matter                    </font></mark><mark style=\"background-color: hsl(0, 75%, 98%); opacity:1.0;                     line-height:1.75\"><font color=\"black\"> @                    </font></mark><mark style=\"background-color: hsl(0, 75%, 97%); opacity:1.0;                     line-height:1.75\"><font color=\"black\"> lol                    </font></mark><mark style=\"background-color: hsl(52, 85%, 100%); opacity:1.0;                     line-height:1.75\"><font color=\"black\"> #unk                    </font></mark></td><tr><tr><td><text style=\"padding-right:2em\"><b>Neutral</b></text></td><td><text style=\"padding-right:2em\"><b>Hate (0.95)</b></text></td><td><text style=\"padding-right:2em\"><b>Hate</b></text></td><td><text style=\"padding-right:2em\"><b>0.96</b></text></td><td><mark style=\"background-color: hsl(52, 85%, 92%); opacity:1.0;                     line-height:1.75\"><font color=\"black\"> @user                    </font></mark><mark style=\"background-color: hsl(0, 75%, 94%); opacity:1.0;                     line-height:1.75\"><font color=\"black\"> guess                    </font></mark><mark style=\"background-color: hsl(0, 75%, 88%); opacity:1.0;                     line-height:1.75\"><font color=\"black\"> ’s                    </font></mark><mark style=\"background-color: hsl(52, 85%, 95%); opacity:1.0;                     line-height:1.75\"><font color=\"black\"> swamp                    </font></mark><mark style=\"background-color: hsl(0, 75%, 54%); opacity:1.0;                     line-height:1.75\"><font color=\"black\"> ass                    </font></mark><mark style=\"background-color: hsl(52, 85%, 100%); opacity:1.0;                     line-height:1.75\"><font color=\"black\"> #unk                    </font></mark><mark style=\"background-color: hsl(52, 85%, 100%); opacity:1.0;                     line-height:1.75\"><font color=\"black\"> #unk                    </font></mark></td><tr><tr><td><text style=\"padding-right:2em\"><b>Neutral</b></text></td><td><text style=\"padding-right:2em\"><b>Hate (0.94)</b></text></td><td><text style=\"padding-right:2em\"><b>Hate</b></text></td><td><text style=\"padding-right:2em\"><b>0.76</b></text></td><td><mark style=\"background-color: hsl(0, 75%, 93%); opacity:1.0;                     line-height:1.75\"><font color=\"black\"> maga                    </font></mark><mark style=\"background-color: hsl(0, 75%, 86%); opacity:1.0;                     line-height:1.75\"><font color=\"black\"> ...                    </font></mark><mark style=\"background-color: hsl(0, 75%, 79%); opacity:1.0;                     line-height:1.75\"><font color=\"black\"> got                    </font></mark><mark style=\"background-color: hsl(0, 75%, 71%); opacity:1.0;                     line-height:1.75\"><font color=\"black\"> ideas                    </font></mark><mark style=\"background-color: hsl(52, 85%, 100%); opacity:1.0;                     line-height:1.75\"><font color=\"black\"> could                    </font></mark><mark style=\"background-color: hsl(52, 85%, 98%); opacity:1.0;                     line-height:1.75\"><font color=\"black\"> done                    </font></mark><mark style=\"background-color: hsl(52, 85%, 99%); opacity:1.0;                     line-height:1.75\"><font color=\"black\"> ?                    </font></mark><mark style=\"background-color: hsl(52, 85%, 77%); opacity:1.0;                     line-height:1.75\"><font color=\"black\"> url                    </font></mark><mark style=\"background-color: hsl(52, 85%, 100%); opacity:1.0;                     line-height:1.75\"><font color=\"black\"> #unk                    </font></mark></td><tr></table>"
      ],
      "text/plain": [
       "<IPython.core.display.HTML object>"
      ]
     },
     "metadata": {},
     "output_type": "display_data"
    }
   ],
   "source": [
    "dataset_visualization(model, vocab_stoi, vocab_itos, highest_stats_df_fp,\\\n",
    "                      field, device, max_samples=10,partial_vis=True,class_names=[\"Neutral\",\"Hate\"])"
   ]
  },
  {
   "cell_type": "markdown",
   "metadata": {},
   "source": [
    "## True Negatives"
   ]
  },
  {
   "cell_type": "code",
   "execution_count": 16,
   "metadata": {},
   "outputs": [],
   "source": [
    "lowest_stats_df_tn, highest_stats_df_tn = get_highest_lowest_metric_indexes(df_tn, stats_metric='prob', stats_topk=10)"
   ]
  },
  {
   "cell_type": "markdown",
   "metadata": {},
   "source": [
    "#### Lowest Scores"
   ]
  },
  {
   "cell_type": "code",
   "execution_count": 17,
   "metadata": {},
   "outputs": [
    {
     "name": "stdout",
     "output_type": "stream",
     "text": [
      "\n",
      "\n",
      "**MODEL EXPLAINABILITY**\n",
      "\n",
      "Computing words importance for each sample... \n",
      "Computations completed.\n",
      "\n",
      "\n",
      "**LOADING VISUALIZATION**\n",
      "\n"
     ]
    },
    {
     "data": {
      "text/html": [
       "<table width: 100%><div style=\"border-top: 1px solid; margin-top: 5px;             padding-top: 5px; display: inline-block\"><b>Legend: </b><span style=\"display: inline-block; width: 10px; height: 10px;                 border: 1px solid; background-color:                 hsl(52, 85%, 60%)\"></span> Neutral  <span style=\"display: inline-block; width: 10px; height: 10px;                 border: 1px solid; background-color:                 hsl(0, 75%, 50%)\"></span> Hate  </div><tr><th>True Label</th><th>Predicted Label</th><th>Attribution Label</th><th>Attribution Score</th><th>Word Importance</th><tr><td><text style=\"padding-right:2em\"><b>Neutral</b></text></td><td><text style=\"padding-right:2em\"><b>Neutral (0.00)</b></text></td><td><text style=\"padding-right:2em\"><b>Hate</b></text></td><td><text style=\"padding-right:2em\"><b>1.39</b></text></td><td><mark style=\"background-color: hsl(0, 75%, 100%); opacity:1.0;                     line-height:1.75\"><font color=\"black\"> celebrities                    </font></mark><mark style=\"background-color: hsl(52, 85%, 100%); opacity:1.0;                     line-height:1.75\"><font color=\"black\"> #unk                    </font></mark><mark style=\"background-color: hsl(52, 85%, 100%); opacity:1.0;                     line-height:1.75\"><font color=\"black\"> #unk                    </font></mark><mark style=\"background-color: hsl(0, 75%, 100%); opacity:1.0;                     line-height:1.75\"><font color=\"black\"> pregnant                    </font></mark><mark style=\"background-color: hsl(0, 75%, 100%); opacity:1.0;                     line-height:1.75\"><font color=\"black\"> !                    </font></mark><mark style=\"background-color: hsl(0, 75%, 100%); opacity:1.0;                     line-height:1.75\"><font color=\"black\"> bachelor                    </font></mark><mark style=\"background-color: hsl(0, 75%, 99%); opacity:1.0;                     line-height:1.75\"><font color=\"black\"> star                    </font></mark><mark style=\"background-color: hsl(0, 75%, 100%); opacity:1.0;                     line-height:1.75\"><font color=\"black\"> expecting                    </font></mark><mark style=\"background-color: hsl(0, 75%, 100%); opacity:1.0;                     line-height:1.75\"><font color=\"black\"> first                    </font></mark><mark style=\"background-color: hsl(0, 75%, 100%); opacity:1.0;                     line-height:1.75\"><font color=\"black\"> child                    </font></mark><mark style=\"background-color: hsl(0, 75%, 100%); opacity:1.0;                     line-height:1.75\"><font color=\"black\"> boyfriend                    </font></mark><mark style=\"background-color: hsl(52, 85%, 100%); opacity:1.0;                     line-height:1.75\"><font color=\"black\"> #unk                    </font></mark><mark style=\"background-color: hsl(0, 75%, 100%); opacity:1.0;                     line-height:1.75\"><font color=\"black\"> :                    </font></mark><mark style=\"background-color: hsl(52, 85%, 100%); opacity:1.0;                     line-height:1.75\"><font color=\"black\"> #unk                    </font></mark><mark style=\"background-color: hsl(52, 85%, 100%); opacity:1.0;                     line-height:1.75\"><font color=\"black\"> #unk                    </font></mark><mark style=\"background-color: hsl(0, 75%, 97%); opacity:1.0;                     line-height:1.75\"><font color=\"black\"> whole                    </font></mark><mark style=\"background-color: hsl(52, 85%, 100%); opacity:1.0;                     line-height:1.75\"><font color=\"black\"> new                    </font></mark><mark style=\"background-color: hsl(0, 75%, 98%); opacity:1.0;                     line-height:1.75\"><font color=\"black\"> reality                    </font></mark><mark style=\"background-color: hsl(0, 75%, 89%); opacity:1.0;                     line-height:1.75\"><font color=\"black\">                      </font></mark><mark style=\"background-color: hsl(0, 75%, 89%); opacity:1.0;                     line-height:1.75\"><font color=\"black\"> —                    </font></mark><mark style=\"background-color: hsl(0, 75%, 95%); opacity:1.0;                     line-height:1.75\"><font color=\"black\"> going                    </font></mark><mark style=\"background-color: hsl(0, 75%, 88%); opacity:1.0;                     line-height:1.75\"><font color=\"black\"> mom                    </font></mark><mark style=\"background-color: hsl(0, 75%, 93%); opacity:1.0;                     line-height:1.75\"><font color=\"black\"> !                    </font></mark><mark style=\"background-color: hsl(0, 75%, 90%); opacity:1.0;                     line-height:1.75\"><font color=\"black\"> bachelor                    </font></mark><mark style=\"background-color: hsl(52, 85%, 100%); opacity:1.0;                     line-height:1.75\"><font color=\"black\"> #unk                    </font></mark><mark style=\"background-color: hsl(0, 75%, 84%); opacity:1.0;                     line-height:1.75\"><font color=\"black\"> ,                    </font></mark><mark style=\"background-color: hsl(52, 85%, 100%); opacity:1.0;                     line-height:1.75\"><font color=\"black\"> 23                    </font></mark><mark style=\"background-color: hsl(0, 75%, 86%); opacity:1.0;                     line-height:1.75\"><font color=\"black\"> ,                    </font></mark><mark style=\"background-color: hsl(0, 75%, 79%); opacity:1.0;                     line-height:1.75\"><font color=\"black\"> ..                    </font></mark><mark style=\"background-color: hsl(52, 85%, 81%); opacity:1.0;                     line-height:1.75\"><font color=\"black\"> via                    </font></mark><mark style=\"background-color: hsl(52, 85%, 92%); opacity:1.0;                     line-height:1.75\"><font color=\"black\"> url                    </font></mark><mark style=\"background-color: hsl(52, 85%, 92%); opacity:1.0;                     line-height:1.75\"><font color=\"black\"> url                    </font></mark><mark style=\"background-color: hsl(52, 85%, 93%); opacity:1.0;                     line-height:1.75\"><font color=\"black\"> url                    </font></mark><mark style=\"background-color: hsl(52, 85%, 100%); opacity:1.0;                     line-height:1.75\"><font color=\"black\"> #unk                    </font></mark></td><tr><tr><td><text style=\"padding-right:2em\"><b>Neutral</b></text></td><td><text style=\"padding-right:2em\"><b>Neutral (0.00)</b></text></td><td><text style=\"padding-right:2em\"><b>Hate</b></text></td><td><text style=\"padding-right:2em\"><b>0.11</b></text></td><td><mark style=\"background-color: hsl(52, 85%, 100%); opacity:1.0;                     line-height:1.75\"><font color=\"black\"> #unk                    </font></mark><mark style=\"background-color: hsl(0, 75%, 98%); opacity:1.0;                     line-height:1.75\"><font color=\"black\"> security                    </font></mark><mark style=\"background-color: hsl(0, 75%, 97%); opacity:1.0;                     line-height:1.75\"><font color=\"black\"> incidents                    </font></mark><mark style=\"background-color: hsl(0, 75%, 98%); opacity:1.0;                     line-height:1.75\"><font color=\"black\"> rarely                    </font></mark><mark style=\"background-color: hsl(0, 75%, 98%); opacity:1.0;                     line-height:1.75\"><font color=\"black\"> emerge                    </font></mark><mark style=\"background-color: hsl(0, 75%, 96%); opacity:1.0;                     line-height:1.75\"><font color=\"black\"> fully                    </font></mark><mark style=\"background-color: hsl(0, 75%, 96%); opacity:1.0;                     line-height:1.75\"><font color=\"black\"> formed                    </font></mark><mark style=\"background-color: hsl(52, 85%, 100%); opacity:1.0;                     line-height:1.75\"><font color=\"black\"> #unk                    </font></mark><mark style=\"background-color: hsl(52, 85%, 99%); opacity:1.0;                     line-height:1.75\"><font color=\"black\"> lights                    </font></mark><mark style=\"background-color: hsl(0, 75%, 84%); opacity:1.0;                     line-height:1.75\"><font color=\"black\"> alert                    </font></mark><mark style=\"background-color: hsl(52, 85%, 100%); opacity:1.0;                     line-height:1.75\"><font color=\"black\"> .                    </font></mark><mark style=\"background-color: hsl(0, 75%, 97%); opacity:1.0;                     line-height:1.75\"><font color=\"black\"> see                    </font></mark><mark style=\"background-color: hsl(0, 75%, 92%); opacity:1.0;                     line-height:1.75\"><font color=\"black\"> ’re                    </font></mark><mark style=\"background-color: hsl(0, 75%, 99%); opacity:1.0;                     line-height:1.75\"><font color=\"black\"> prepared                    </font></mark><mark style=\"background-color: hsl(0, 75%, 97%); opacity:1.0;                     line-height:1.75\"><font color=\"black\"> testing                    </font></mark><mark style=\"background-color: hsl(0, 75%, 100%); opacity:1.0;                     line-height:1.75\"><font color=\"black\"> skills                    </font></mark><mark style=\"background-color: hsl(0, 75%, 97%); opacity:1.0;                     line-height:1.75\"><font color=\"black\"> following                    </font></mark><mark style=\"background-color: hsl(0, 75%, 86%); opacity:1.0;                     line-height:1.75\"><font color=\"black\"> scenario                    </font></mark><mark style=\"background-color: hsl(52, 85%, 97%); opacity:1.0;                     line-height:1.75\"><font color=\"black\"> .                    </font></mark><mark style=\"background-color: hsl(52, 85%, 71%); opacity:1.0;                     line-height:1.75\"><font color=\"black\"> url                    </font></mark><mark style=\"background-color: hsl(52, 85%, 83%); opacity:1.0;                     line-height:1.75\"><font color=\"black\"> url                    </font></mark><mark style=\"background-color: hsl(52, 85%, 100%); opacity:1.0;                     line-height:1.75\"><font color=\"black\"> #unk                    </font></mark></td><tr><tr><td><text style=\"padding-right:2em\"><b>Neutral</b></text></td><td><text style=\"padding-right:2em\"><b>Neutral (0.00)</b></text></td><td><text style=\"padding-right:2em\"><b>Hate</b></text></td><td><text style=\"padding-right:2em\"><b>1.67</b></text></td><td><mark style=\"background-color: hsl(0, 75%, 100%); opacity:1.0;                     line-height:1.75\"><font color=\"black\"> art                    </font></mark><mark style=\"background-color: hsl(0, 75%, 100%); opacity:1.0;                     line-height:1.75\"><font color=\"black\"> culture                    </font></mark><mark style=\"background-color: hsl(52, 85%, 100%); opacity:1.0;                     line-height:1.75\"><font color=\"black\"> #unk                    </font></mark><mark style=\"background-color: hsl(52, 85%, 100%); opacity:1.0;                     line-height:1.75\"><font color=\"black\"> #unk                    </font></mark><mark style=\"background-color: hsl(52, 85%, 100%); opacity:1.0;                     line-height:1.75\"><font color=\"black\"> #unk                    </font></mark><mark style=\"background-color: hsl(0, 75%, 100%); opacity:1.0;                     line-height:1.75\"><font color=\"black\"> :                    </font></mark><mark style=\"background-color: hsl(0, 75%, 100%); opacity:1.0;                     line-height:1.75\"><font color=\"black\"> apology                    </font></mark><mark style=\"background-color: hsl(52, 85%, 100%); opacity:1.0;                     line-height:1.75\"><font color=\"black\"> tour                    </font></mark><mark style=\"background-color: hsl(0, 75%, 100%); opacity:1.0;                     line-height:1.75\"><font color=\"black\"> :                    </font></mark><mark style=\"background-color: hsl(52, 85%, 100%); opacity:1.0;                     line-height:1.75\"><font color=\"black\"> #unk                    </font></mark><mark style=\"background-color: hsl(52, 85%, 100%); opacity:1.0;                     line-height:1.75\"><font color=\"black\"> #unk                    </font></mark><mark style=\"background-color: hsl(52, 85%, 100%); opacity:1.0;                     line-height:1.75\"><font color=\"black\"> #unk                    </font></mark><mark style=\"background-color: hsl(0, 75%, 100%); opacity:1.0;                     line-height:1.75\"><font color=\"black\"> taken                    </font></mark><mark style=\"background-color: hsl(0, 75%, 100%); opacity:1.0;                     line-height:1.75\"><font color=\"black\"> social                    </font></mark><mark style=\"background-color: hsl(0, 75%, 97%); opacity:1.0;                     line-height:1.75\"><font color=\"black\"> issues                    </font></mark><mark style=\"background-color: hsl(0, 75%, 100%); opacity:1.0;                     line-height:1.75\"><font color=\"black\"> .                    </font></mark><mark style=\"background-color: hsl(0, 75%, 100%); opacity:1.0;                     line-height:1.75\"><font color=\"black\"> last                    </font></mark><mark style=\"background-color: hsl(0, 75%, 99%); opacity:1.0;                     line-height:1.75\"><font color=\"black\"> season                    </font></mark><mark style=\"background-color: hsl(0, 75%, 99%); opacity:1.0;                     line-height:1.75\"><font color=\"black\"> 's                    </font></mark><mark style=\"background-color: hsl(0, 75%, 94%); opacity:1.0;                     line-height:1.75\"><font color=\"black\"> gun                    </font></mark><mark style=\"background-color: hsl(0, 75%, 91%); opacity:1.0;                     line-height:1.75\"><font color=\"black\"> control                    </font></mark><mark style=\"background-color: hsl(0, 75%, 94%); opacity:1.0;                     line-height:1.75\"><font color=\"black\"> episode                    </font></mark><mark style=\"background-color: hsl(0, 75%, 80%); opacity:1.0;                     line-height:1.75\"><font color=\"black\"> stands                    </font></mark><mark style=\"background-color: hsl(0, 75%, 88%); opacity:1.0;                     line-height:1.75\"><font color=\"black\"> shining                    </font></mark><mark style=\"background-color: hsl(0, 75%, 96%); opacity:1.0;                     line-height:1.75\"><font color=\"black\"> example                    </font></mark><mark style=\"background-color: hsl(0, 75%, 86%); opacity:1.0;                     line-height:1.75\"><font color=\"black\"> ,                    </font></mark><mark style=\"background-color: hsl(0, 75%, 94%); opacity:1.0;                     line-height:1.75\"><font color=\"black\"> show                    </font></mark><mark style=\"background-color: hsl(0, 75%, 100%); opacity:1.0;                     line-height:1.75\"><font color=\"black\"> always                    </font></mark><mark style=\"background-color: hsl(0, 75%, 82%); opacity:1.0;                     line-height:1.75\"><font color=\"black\"> ability                    </font></mark><mark style=\"background-color: hsl(0, 75%, 82%); opacity:1.0;                     line-height:1.75\"><font color=\"black\"> ..                    </font></mark><mark style=\"background-color: hsl(52, 85%, 92%); opacity:1.0;                     line-height:1.75\"><font color=\"black\"> via                    </font></mark><mark style=\"background-color: hsl(52, 85%, 84%); opacity:1.0;                     line-height:1.75\"><font color=\"black\"> url                    </font></mark><mark style=\"background-color: hsl(52, 85%, 88%); opacity:1.0;                     line-height:1.75\"><font color=\"black\"> url                    </font></mark><mark style=\"background-color: hsl(52, 85%, 100%); opacity:1.0;                     line-height:1.75\"><font color=\"black\"> #unk                    </font></mark></td><tr><tr><td><text style=\"padding-right:2em\"><b>Neutral</b></text></td><td><text style=\"padding-right:2em\"><b>Neutral (0.00)</b></text></td><td><text style=\"padding-right:2em\"><b>Hate</b></text></td><td><text style=\"padding-right:2em\"><b>-0.44</b></text></td><td><mark style=\"background-color: hsl(52, 85%, 100%); opacity:1.0;                     line-height:1.75\"><font color=\"black\"> #unk                    </font></mark><mark style=\"background-color: hsl(52, 85%, 100%); opacity:1.0;                     line-height:1.75\"><font color=\"black\"> #unk                    </font></mark><mark style=\"background-color: hsl(52, 85%, 100%); opacity:1.0;                     line-height:1.75\"><font color=\"black\"> #unk                    </font></mark><mark style=\"background-color: hsl(0, 75%, 99%); opacity:1.0;                     line-height:1.75\"><font color=\"black\"> x                    </font></mark><mark style=\"background-color: hsl(52, 85%, 100%); opacity:1.0;                     line-height:1.75\"><font color=\"black\"> #unk                    </font></mark><mark style=\"background-color: hsl(0, 75%, 97%); opacity:1.0;                     line-height:1.75\"><font color=\"black\"> 2018                    </font></mark><mark style=\"background-color: hsl(0, 75%, 89%); opacity:1.0;                     line-height:1.75\"><font color=\"black\"> f                    </font></mark><mark style=\"background-color: hsl(0, 75%, 95%); opacity:1.0;                     line-height:1.75\"><font color=\"black\"> /                    </font></mark><mark style=\"background-color: hsl(0, 75%, 96%); opacity:1.0;                     line-height:1.75\"><font color=\"black\"> w                    </font></mark><mark style=\"background-color: hsl(52, 85%, 100%); opacity:1.0;                     line-height:1.75\"><font color=\"black\"> @user                    </font></mark><mark style=\"background-color: hsl(0, 75%, 100%); opacity:1.0;                     line-height:1.75\"><font color=\"black\"> :                    </font></mark><mark style=\"background-color: hsl(0, 75%, 98%); opacity:1.0;                     line-height:1.75\"><font color=\"black\"> link                    </font></mark><mark style=\"background-color: hsl(0, 75%, 99%); opacity:1.0;                     line-height:1.75\"><font color=\"black\"> :                    </font></mark><mark style=\"background-color: hsl(0, 75%, 100%); opacity:1.0;                     line-height:1.75\"><font color=\"black\"> url                    </font></mark><mark style=\"background-color: hsl(0, 75%, 96%); opacity:1.0;                     line-height:1.75\"><font color=\"black\"> :                    </font></mark><mark style=\"background-color: hsl(52, 85%, 100%); opacity:1.0;                     line-height:1.75\"><font color=\"black\"> link                    </font></mark><mark style=\"background-color: hsl(0, 75%, 98%); opacity:1.0;                     line-height:1.75\"><font color=\"black\"> :                    </font></mark><mark style=\"background-color: hsl(52, 85%, 99%); opacity:1.0;                     line-height:1.75\"><font color=\"black\"> url                    </font></mark><mark style=\"background-color: hsl(0, 75%, 94%); opacity:1.0;                     line-height:1.75\"><font color=\"black\"> :                    </font></mark><mark style=\"background-color: hsl(52, 85%, 97%); opacity:1.0;                     line-height:1.75\"><font color=\"black\"> link                    </font></mark><mark style=\"background-color: hsl(0, 75%, 96%); opacity:1.0;                     line-height:1.75\"><font color=\"black\"> :                    </font></mark><mark style=\"background-color: hsl(52, 85%, 98%); opacity:1.0;                     line-height:1.75\"><font color=\"black\"> url                    </font></mark><mark style=\"background-color: hsl(0, 75%, 90%); opacity:1.0;                     line-height:1.75\"><font color=\"black\"> :                    </font></mark><mark style=\"background-color: hsl(52, 85%, 89%); opacity:1.0;                     line-height:1.75\"><font color=\"black\"> link                    </font></mark><mark style=\"background-color: hsl(0, 75%, 97%); opacity:1.0;                     line-height:1.75\"><font color=\"black\"> :                    </font></mark><mark style=\"background-color: hsl(52, 85%, 75%); opacity:1.0;                     line-height:1.75\"><font color=\"black\"> url                    </font></mark><mark style=\"background-color: hsl(52, 85%, 78%); opacity:1.0;                     line-height:1.75\"><font color=\"black\"> url                    </font></mark><mark style=\"background-color: hsl(52, 85%, 100%); opacity:1.0;                     line-height:1.75\"><font color=\"black\"> #unk                    </font></mark></td><tr><tr><td><text style=\"padding-right:2em\"><b>Neutral</b></text></td><td><text style=\"padding-right:2em\"><b>Neutral (0.00)</b></text></td><td><text style=\"padding-right:2em\"><b>Hate</b></text></td><td><text style=\"padding-right:2em\"><b>0.06</b></text></td><td><mark style=\"background-color: hsl(52, 85%, 100%); opacity:1.0;                     line-height:1.75\"><font color=\"black\"> #unk                    </font></mark><mark style=\"background-color: hsl(0, 75%, 100%); opacity:1.0;                     line-height:1.75\"><font color=\"black\"> definitely                    </font></mark><mark style=\"background-color: hsl(0, 75%, 100%); opacity:1.0;                     line-height:1.75\"><font color=\"black\"> tad                    </font></mark><mark style=\"background-color: hsl(0, 75%, 100%); opacity:1.0;                     line-height:1.75\"><font color=\"black\"> high                    </font></mark><mark style=\"background-color: hsl(0, 75%, 100%); opacity:1.0;                     line-height:1.75\"><font color=\"black\"> puerto                    </font></mark><mark style=\"background-color: hsl(0, 75%, 100%); opacity:1.0;                     line-height:1.75\"><font color=\"black\"> rico                    </font></mark><mark style=\"background-color: hsl(52, 85%, 100%); opacity:1.0;                     line-height:1.75\"><font color=\"black\"> .                    </font></mark><mark style=\"background-color: hsl(0, 75%, 100%); opacity:1.0;                     line-height:1.75\"><font color=\"black\"> democrats                    </font></mark><mark style=\"background-color: hsl(0, 75%, 100%); opacity:1.0;                     line-height:1.75\"><font color=\"black\"> provide                    </font></mark><mark style=\"background-color: hsl(0, 75%, 100%); opacity:1.0;                     line-height:1.75\"><font color=\"black\"> proof                    </font></mark><mark style=\"background-color: hsl(0, 75%, 100%); opacity:1.0;                     line-height:1.75\"><font color=\"black\"> ?                    </font></mark><mark style=\"background-color: hsl(52, 85%, 100%); opacity:1.0;                     line-height:1.75\"><font color=\"black\"> providing                    </font></mark><mark style=\"background-color: hsl(0, 75%, 100%); opacity:1.0;                     line-height:1.75\"><font color=\"black\"> names                    </font></mark><mark style=\"background-color: hsl(0, 75%, 99%); opacity:1.0;                     line-height:1.75\"><font color=\"black\"> ,                    </font></mark><mark style=\"background-color: hsl(52, 85%, 100%); opacity:1.0;                     line-height:1.75\"><font color=\"black\"> #unk                    </font></mark><mark style=\"background-color: hsl(0, 75%, 99%); opacity:1.0;                     line-height:1.75\"><font color=\"black\"> ,                    </font></mark><mark style=\"background-color: hsl(0, 75%, 99%); opacity:1.0;                     line-height:1.75\"><font color=\"black\"> next                    </font></mark><mark style=\"background-color: hsl(52, 85%, 100%); opacity:1.0;                     line-height:1.75\"><font color=\"black\"> #unk                    </font></mark><mark style=\"background-color: hsl(0, 75%, 99%); opacity:1.0;                     line-height:1.75\"><font color=\"black\"> n’t                    </font></mark><mark style=\"background-color: hsl(0, 75%, 95%); opacity:1.0;                     line-height:1.75\"><font color=\"black\"> hard                    </font></mark><mark style=\"background-color: hsl(52, 85%, 100%); opacity:1.0;                     line-height:1.75\"><font color=\"black\"> .                    </font></mark><mark style=\"background-color: hsl(52, 85%, 100%); opacity:1.0;                     line-height:1.75\"><font color=\"black\"> hope                    </font></mark><mark style=\"background-color: hsl(0, 75%, 95%); opacity:1.0;                     line-height:1.75\"><font color=\"black\"> n’t                    </font></mark><mark style=\"background-color: hsl(0, 75%, 90%); opacity:1.0;                     line-height:1.75\"><font color=\"black\"> mind                    </font></mark><mark style=\"background-color: hsl(0, 75%, 96%); opacity:1.0;                     line-height:1.75\"><font color=\"black\"> ,                    </font></mark><mark style=\"background-color: hsl(0, 75%, 99%); opacity:1.0;                     line-height:1.75\"><font color=\"black\"> holding                    </font></mark><mark style=\"background-color: hsl(0, 75%, 99%); opacity:1.0;                     line-height:1.75\"><font color=\"black\"> breath                    </font></mark><mark style=\"background-color: hsl(52, 85%, 98%); opacity:1.0;                     line-height:1.75\"><font color=\"black\"> .                    </font></mark><mark style=\"background-color: hsl(52, 85%, 84%); opacity:1.0;                     line-height:1.75\"><font color=\"black\"> url                    </font></mark><mark style=\"background-color: hsl(52, 85%, 94%); opacity:1.0;                     line-height:1.75\"><font color=\"black\"> via                    </font></mark><mark style=\"background-color: hsl(0, 75%, 72%); opacity:1.0;                     line-height:1.75\"><font color=\"black\"> @user                    </font></mark><mark style=\"background-color: hsl(52, 85%, 76%); opacity:1.0;                     line-height:1.75\"><font color=\"black\"> url                    </font></mark><mark style=\"background-color: hsl(52, 85%, 100%); opacity:1.0;                     line-height:1.75\"><font color=\"black\"> #unk                    </font></mark></td><tr><tr><td><text style=\"padding-right:2em\"><b>Neutral</b></text></td><td><text style=\"padding-right:2em\"><b>Neutral (0.00)</b></text></td><td><text style=\"padding-right:2em\"><b>Hate</b></text></td><td><text style=\"padding-right:2em\"><b>0.51</b></text></td><td><mark style=\"background-color: hsl(0, 75%, 98%); opacity:1.0;                     line-height:1.75\"><font color=\"black\"> $                    </font></mark><mark style=\"background-color: hsl(52, 85%, 100%); opacity:1.0;                     line-height:1.75\"><font color=\"black\"> #unk                    </font></mark><mark style=\"background-color: hsl(0, 75%, 98%); opacity:1.0;                     line-height:1.75\"><font color=\"black\"> iphone                    </font></mark><mark style=\"background-color: hsl(0, 75%, 98%); opacity:1.0;                     line-height:1.75\"><font color=\"black\"> —                    </font></mark><mark style=\"background-color: hsl(52, 85%, 100%); opacity:1.0;                     line-height:1.75\"><font color=\"black\"> #unk                    </font></mark><mark style=\"background-color: hsl(52, 85%, 100%); opacity:1.0;                     line-height:1.75\"><font color=\"black\"> .                    </font></mark><mark style=\"background-color: hsl(0, 75%, 99%); opacity:1.0;                     line-height:1.75\"><font color=\"black\"> tech                    </font></mark><mark style=\"background-color: hsl(52, 85%, 100%); opacity:1.0;                     line-height:1.75\"><font color=\"black\"> #unk                    </font></mark><mark style=\"background-color: hsl(0, 75%, 99%); opacity:1.0;                     line-height:1.75\"><font color=\"black\"> josh                    </font></mark><mark style=\"background-color: hsl(0, 75%, 95%); opacity:1.0;                     line-height:1.75\"><font color=\"black\"> mcconnell                    </font></mark><mark style=\"background-color: hsl(0, 75%, 98%); opacity:1.0;                     line-height:1.75\"><font color=\"black\"> breaks                    </font></mark><mark style=\"background-color: hsl(52, 85%, 100%); opacity:1.0;                     line-height:1.75\"><font color=\"black\"> #unk                    </font></mark><mark style=\"background-color: hsl(0, 75%, 96%); opacity:1.0;                     line-height:1.75\"><font color=\"black\"> price                    </font></mark><mark style=\"background-color: hsl(0, 75%, 89%); opacity:1.0;                     line-height:1.75\"><font color=\"black\"> points                    </font></mark><mark style=\"background-color: hsl(0, 75%, 94%); opacity:1.0;                     line-height:1.75\"><font color=\"black\"> apple                    </font></mark><mark style=\"background-color: hsl(0, 75%, 93%); opacity:1.0;                     line-height:1.75\"><font color=\"black\"> ’s                    </font></mark><mark style=\"background-color: hsl(52, 85%, 93%); opacity:1.0;                     line-height:1.75\"><font color=\"black\"> new                    </font></mark><mark style=\"background-color: hsl(52, 85%, 98%); opacity:1.0;                     line-height:1.75\"><font color=\"black\"> line                    </font></mark><mark style=\"background-color: hsl(52, 85%, 84%); opacity:1.0;                     line-height:1.75\"><font color=\"black\"> url                    </font></mark><mark style=\"background-color: hsl(0, 75%, 68%); opacity:1.0;                     line-height:1.75\"><font color=\"black\"> @user                    </font></mark><mark style=\"background-color: hsl(52, 85%, 81%); opacity:1.0;                     line-height:1.75\"><font color=\"black\"> url                    </font></mark><mark style=\"background-color: hsl(52, 85%, 100%); opacity:1.0;                     line-height:1.75\"><font color=\"black\"> #unk                    </font></mark></td><tr><tr><td><text style=\"padding-right:2em\"><b>Neutral</b></text></td><td><text style=\"padding-right:2em\"><b>Neutral (0.00)</b></text></td><td><text style=\"padding-right:2em\"><b>Hate</b></text></td><td><text style=\"padding-right:2em\"><b>0.87</b></text></td><td><mark style=\"background-color: hsl(52, 85%, 100%); opacity:1.0;                     line-height:1.75\"><font color=\"black\"> #unk                    </font></mark><mark style=\"background-color: hsl(52, 85%, 100%); opacity:1.0;                     line-height:1.75\"><font color=\"black\"> #unk                    </font></mark><mark style=\"background-color: hsl(0, 75%, 98%); opacity:1.0;                     line-height:1.75\"><font color=\"black\"> wishing                    </font></mark><mark style=\"background-color: hsl(0, 75%, 96%); opacity:1.0;                     line-height:1.75\"><font color=\"black\"> loose                    </font></mark><mark style=\"background-color: hsl(0, 75%, 94%); opacity:1.0;                     line-height:1.75\"><font color=\"black\"> fat                    </font></mark><mark style=\"background-color: hsl(0, 75%, 95%); opacity:1.0;                     line-height:1.75\"><font color=\"black\"> ,                    </font></mark><mark style=\"background-color: hsl(0, 75%, 97%); opacity:1.0;                     line-height:1.75\"><font color=\"black\"> get                    </font></mark><mark style=\"background-color: hsl(0, 75%, 96%); opacity:1.0;                     line-height:1.75\"><font color=\"black\"> back                    </font></mark><mark style=\"background-color: hsl(52, 85%, 100%); opacity:1.0;                     line-height:1.75\"><font color=\"black\"> #unk                    </font></mark><mark style=\"background-color: hsl(52, 85%, 99%); opacity:1.0;                     line-height:1.75\"><font color=\"black\"> slow                    </font></mark><mark style=\"background-color: hsl(0, 75%, 96%); opacity:1.0;                     line-height:1.75\"><font color=\"black\"> reverse                    </font></mark><mark style=\"background-color: hsl(0, 75%, 85%); opacity:1.0;                     line-height:1.75\"><font color=\"black\"> aging                    </font></mark><mark style=\"background-color: hsl(0, 75%, 83%); opacity:1.0;                     line-height:1.75\"><font color=\"black\"> process                    </font></mark><mark style=\"background-color: hsl(0, 75%, 83%); opacity:1.0;                     line-height:1.75\"><font color=\"black\"> check                    </font></mark><mark style=\"background-color: hsl(0, 75%, 90%); opacity:1.0;                     line-height:1.75\"><font color=\"black\"> super                    </font></mark><mark style=\"background-color: hsl(0, 75%, 90%); opacity:1.0;                     line-height:1.75\"><font color=\"black\"> powerful                    </font></mark><mark style=\"background-color: hsl(0, 75%, 96%); opacity:1.0;                     line-height:1.75\"><font color=\"black\"> natural                    </font></mark><mark style=\"background-color: hsl(52, 85%, 88%); opacity:1.0;                     line-height:1.75\"><font color=\"black\"> method                    </font></mark><mark style=\"background-color: hsl(52, 85%, 80%); opacity:1.0;                     line-height:1.75\"><font color=\"black\"> url                    </font></mark><mark style=\"background-color: hsl(52, 85%, 85%); opacity:1.0;                     line-height:1.75\"><font color=\"black\"> url                    </font></mark><mark style=\"background-color: hsl(52, 85%, 100%); opacity:1.0;                     line-height:1.75\"><font color=\"black\"> #unk                    </font></mark></td><tr><tr><td><text style=\"padding-right:2em\"><b>Neutral</b></text></td><td><text style=\"padding-right:2em\"><b>Neutral (0.00)</b></text></td><td><text style=\"padding-right:2em\"><b>Hate</b></text></td><td><text style=\"padding-right:2em\"><b>0.13</b></text></td><td><mark style=\"background-color: hsl(52, 85%, 100%); opacity:1.0;                     line-height:1.75\"><font color=\"black\"> #unk                    </font></mark><mark style=\"background-color: hsl(0, 75%, 98%); opacity:1.0;                     line-height:1.75\"><font color=\"black\"> :                    </font></mark><mark style=\"background-color: hsl(0, 75%, 97%); opacity:1.0;                     line-height:1.75\"><font color=\"black\"> kavanaugh                    </font></mark><mark style=\"background-color: hsl(0, 75%, 96%); opacity:1.0;                     line-height:1.75\"><font color=\"black\"> ford                    </font></mark><mark style=\"background-color: hsl(0, 75%, 93%); opacity:1.0;                     line-height:1.75\"><font color=\"black\"> controversy                    </font></mark><mark style=\"background-color: hsl(0, 75%, 99%); opacity:1.0;                     line-height:1.75\"><font color=\"black\"> –                    </font></mark><mark style=\"background-color: hsl(0, 75%, 98%); opacity:1.0;                     line-height:1.75\"><font color=\"black\"> 's                    </font></mark><mark style=\"background-color: hsl(52, 85%, 100%); opacity:1.0;                     line-height:1.75\"><font color=\"black\"> 1991                    </font></mark><mark style=\"background-color: hsl(0, 75%, 93%); opacity:1.0;                     line-height:1.75\"><font color=\"black\"> even                    </font></mark><mark style=\"background-color: hsl(0, 75%, 93%); opacity:1.0;                     line-height:1.75\"><font color=\"black\"> honest                    </font></mark><mark style=\"background-color: hsl(0, 75%, 97%); opacity:1.0;                     line-height:1.75\"><font color=\"black\"> liberals                    </font></mark><mark style=\"background-color: hsl(52, 85%, 94%); opacity:1.0;                     line-height:1.75\"><font color=\"black\"> upset                    </font></mark><mark style=\"background-color: hsl(52, 85%, 85%); opacity:1.0;                     line-height:1.75\"><font color=\"black\"> url                    </font></mark><mark style=\"background-color: hsl(52, 85%, 96%); opacity:1.0;                     line-height:1.75\"><font color=\"black\"> via                    </font></mark><mark style=\"background-color: hsl(0, 75%, 71%); opacity:1.0;                     line-height:1.75\"><font color=\"black\"> @user                    </font></mark><mark style=\"background-color: hsl(52, 85%, 76%); opacity:1.0;                     line-height:1.75\"><font color=\"black\"> url                    </font></mark><mark style=\"background-color: hsl(52, 85%, 100%); opacity:1.0;                     line-height:1.75\"><font color=\"black\"> #unk                    </font></mark></td><tr><tr><td><text style=\"padding-right:2em\"><b>Neutral</b></text></td><td><text style=\"padding-right:2em\"><b>Neutral (0.01)</b></text></td><td><text style=\"padding-right:2em\"><b>Hate</b></text></td><td><text style=\"padding-right:2em\"><b>2.23</b></text></td><td><mark style=\"background-color: hsl(0, 75%, 91%); opacity:1.0;                     line-height:1.75\"><font color=\"black\"> @user                    </font></mark><mark style=\"background-color: hsl(0, 75%, 77%); opacity:1.0;                     line-height:1.75\"><font color=\"black\"> sweet                    </font></mark><mark style=\"background-color: hsl(0, 75%, 90%); opacity:1.0;                     line-height:1.75\"><font color=\"black\"> !                    </font></mark><mark style=\"background-color: hsl(0, 75%, 89%); opacity:1.0;                     line-height:1.75\"><font color=\"black\"> congratulations                    </font></mark><mark style=\"background-color: hsl(0, 75%, 92%); opacity:1.0;                     line-height:1.75\"><font color=\"black\"> .                    </font></mark><mark style=\"background-color: hsl(0, 75%, 83%); opacity:1.0;                     line-height:1.75\"><font color=\"black\"> house                    </font></mark><mark style=\"background-color: hsl(52, 85%, 89%); opacity:1.0;                     line-height:1.75\"><font color=\"black\"> broken                    </font></mark><mark style=\"background-color: hsl(0, 75%, 77%); opacity:1.0;                     line-height:1.75\"><font color=\"black\"> get                    </font></mark><mark style=\"background-color: hsl(0, 75%, 79%); opacity:1.0;                     line-height:1.75\"><font color=\"black\"> better                    </font></mark><mark style=\"background-color: hsl(52, 85%, 100%); opacity:1.0;                     line-height:1.75\"><font color=\"black\"> #unk                    </font></mark></td><tr><tr><td><text style=\"padding-right:2em\"><b>Neutral</b></text></td><td><text style=\"padding-right:2em\"><b>Neutral (0.01)</b></text></td><td><text style=\"padding-right:2em\"><b>Hate</b></text></td><td><text style=\"padding-right:2em\"><b>-0.93</b></text></td><td><mark style=\"background-color: hsl(52, 85%, 100%); opacity:1.0;                     line-height:1.75\"><font color=\"black\"> #unk                    </font></mark><mark style=\"background-color: hsl(0, 75%, 99%); opacity:1.0;                     line-height:1.75\"><font color=\"black\"> band                    </font></mark><mark style=\"background-color: hsl(0, 75%, 98%); opacity:1.0;                     line-height:1.75\"><font color=\"black\"> n’t                    </font></mark><mark style=\"background-color: hsl(0, 75%, 98%); opacity:1.0;                     line-height:1.75\"><font color=\"black\"> covers                    </font></mark><mark style=\"background-color: hsl(0, 75%, 98%); opacity:1.0;                     line-height:1.75\"><font color=\"black\"> ,                    </font></mark><mark style=\"background-color: hsl(0, 75%, 98%); opacity:1.0;                     line-height:1.75\"><font color=\"black\"> missing                    </font></mark><mark style=\"background-color: hsl(0, 75%, 99%); opacity:1.0;                     line-height:1.75\"><font color=\"black\"> good                    </font></mark><mark style=\"background-color: hsl(0, 75%, 96%); opacity:1.0;                     line-height:1.75\"><font color=\"black\"> quality                    </font></mark><mark style=\"background-color: hsl(0, 75%, 100%); opacity:1.0;                     line-height:1.75\"><font color=\"black\"> audience                    </font></mark><mark style=\"background-color: hsl(52, 85%, 100%); opacity:1.0;                     line-height:1.75\"><font color=\"black\"> #unk                    </font></mark><mark style=\"background-color: hsl(0, 75%, 98%); opacity:1.0;                     line-height:1.75\"><font color=\"black\"> !                    </font></mark><mark style=\"background-color: hsl(52, 85%, 100%); opacity:1.0;                     line-height:1.75\"><font color=\"black\"> look                    </font></mark><mark style=\"background-color: hsl(0, 75%, 89%); opacity:1.0;                     line-height:1.75\"><font color=\"black\"> @user                    </font></mark><mark style=\"background-color: hsl(0, 75%, 96%); opacity:1.0;                     line-height:1.75\"><font color=\"black\"> @user                    </font></mark><mark style=\"background-color: hsl(52, 85%, 77%); opacity:1.0;                     line-height:1.75\"><font color=\"black\"> link                    </font></mark><mark style=\"background-color: hsl(52, 85%, 77%); opacity:1.0;                     line-height:1.75\"><font color=\"black\"> url                    </font></mark><mark style=\"background-color: hsl(52, 85%, 81%); opacity:1.0;                     line-height:1.75\"><font color=\"black\"> url                    </font></mark><mark style=\"background-color: hsl(52, 85%, 100%); opacity:1.0;                     line-height:1.75\"><font color=\"black\"> #unk                    </font></mark></td><tr></table>"
      ],
      "text/plain": [
       "<IPython.core.display.HTML object>"
      ]
     },
     "metadata": {},
     "output_type": "display_data"
    }
   ],
   "source": [
    "dataset_visualization(model, vocab_stoi, vocab_itos, lowest_stats_df_tn,\\\n",
    "                      field, device, max_samples=10,partial_vis=True,class_names=[\"Neutral\",\"Hate\"])"
   ]
  },
  {
   "cell_type": "markdown",
   "metadata": {},
   "source": [
    "## False Negatives"
   ]
  },
  {
   "cell_type": "code",
   "execution_count": 18,
   "metadata": {},
   "outputs": [],
   "source": [
    "lowest_stats_df_fn, highest_stats_df_fn = get_highest_lowest_metric_indexes(df_fn, stats_metric='prob', stats_topk=10)"
   ]
  },
  {
   "cell_type": "markdown",
   "metadata": {},
   "source": [
    "#### Lowest Scores"
   ]
  },
  {
   "cell_type": "code",
   "execution_count": 19,
   "metadata": {},
   "outputs": [
    {
     "name": "stdout",
     "output_type": "stream",
     "text": [
      "\n",
      "\n",
      "**MODEL EXPLAINABILITY**\n",
      "\n",
      "Computing words importance for each sample... \n",
      "Computations completed.\n",
      "\n",
      "\n",
      "**LOADING VISUALIZATION**\n",
      "\n"
     ]
    },
    {
     "data": {
      "text/html": [
       "<table width: 100%><div style=\"border-top: 1px solid; margin-top: 5px;             padding-top: 5px; display: inline-block\"><b>Legend: </b><span style=\"display: inline-block; width: 10px; height: 10px;                 border: 1px solid; background-color:                 hsl(52, 85%, 60%)\"></span> Neutral  <span style=\"display: inline-block; width: 10px; height: 10px;                 border: 1px solid; background-color:                 hsl(0, 75%, 50%)\"></span> Hate  </div><tr><th>True Label</th><th>Predicted Label</th><th>Attribution Label</th><th>Attribution Score</th><th>Word Importance</th><tr><td><text style=\"padding-right:2em\"><b>Hate</b></text></td><td><text style=\"padding-right:2em\"><b>Neutral (0.01)</b></text></td><td><text style=\"padding-right:2em\"><b>Hate</b></text></td><td><text style=\"padding-right:2em\"><b>1.01</b></text></td><td><mark style=\"background-color: hsl(0, 75%, 100%); opacity:1.0;                     line-height:1.75\"><font color=\"black\"> california                    </font></mark><mark style=\"background-color: hsl(0, 75%, 100%); opacity:1.0;                     line-height:1.75\"><font color=\"black\"> patriots                    </font></mark><mark style=\"background-color: hsl(0, 75%, 100%); opacity:1.0;                     line-height:1.75\"><font color=\"black\"> ...                    </font></mark><mark style=\"background-color: hsl(52, 85%, 100%); opacity:1.0;                     line-height:1.75\"><font color=\"black\"> especially                    </font></mark><mark style=\"background-color: hsl(52, 85%, 100%); opacity:1.0;                     line-height:1.75\"><font color=\"black\"> #unk                    </font></mark><mark style=\"background-color: hsl(0, 75%, 100%); opacity:1.0;                     line-height:1.75\"><font color=\"black\"> obama                    </font></mark><mark style=\"background-color: hsl(0, 75%, 100%); opacity:1.0;                     line-height:1.75\"><font color=\"black\"> /                    </font></mark><mark style=\"background-color: hsl(0, 75%, 100%); opacity:1.0;                     line-height:1.75\"><font color=\"black\"> soros                    </font></mark><mark style=\"background-color: hsl(0, 75%, 100%); opacity:1.0;                     line-height:1.75\"><font color=\"black\"> attempting                    </font></mark><mark style=\"background-color: hsl(0, 75%, 100%); opacity:1.0;                     line-height:1.75\"><font color=\"black\"> take                    </font></mark><mark style=\"background-color: hsl(0, 75%, 100%); opacity:1.0;                     line-height:1.75\"><font color=\"black\"> house                    </font></mark><mark style=\"background-color: hsl(0, 75%, 100%); opacity:1.0;                     line-height:1.75\"><font color=\"black\"> seat                    </font></mark><mark style=\"background-color: hsl(0, 75%, 100%); opacity:1.0;                     line-height:1.75\"><font color=\"black\"> get                    </font></mark><mark style=\"background-color: hsl(0, 75%, 100%); opacity:1.0;                     line-height:1.75\"><font color=\"black\"> control                    </font></mark><mark style=\"background-color: hsl(0, 75%, 100%); opacity:1.0;                     line-height:1.75\"><font color=\"black\"> congress                    </font></mark><mark style=\"background-color: hsl(52, 85%, 100%); opacity:1.0;                     line-height:1.75\"><font color=\"black\"> .                    </font></mark><mark style=\"background-color: hsl(0, 75%, 100%); opacity:1.0;                     line-height:1.75\"><font color=\"black\"> say                    </font></mark><mark style=\"background-color: hsl(52, 85%, 100%); opacity:1.0;                     line-height:1.75\"><font color=\"black\"> #unk                    </font></mark><mark style=\"background-color: hsl(52, 85%, 100%); opacity:1.0;                     line-height:1.75\"><font color=\"black\"> #unk                    </font></mark><mark style=\"background-color: hsl(52, 85%, 100%); opacity:1.0;                     line-height:1.75\"><font color=\"black\"> .                    </font></mark><mark style=\"background-color: hsl(0, 75%, 99%); opacity:1.0;                     line-height:1.75\"><font color=\"black\"> shill                    </font></mark><mark style=\"background-color: hsl(0, 75%, 100%); opacity:1.0;                     line-height:1.75\"><font color=\"black\"> candidate                    </font></mark><mark style=\"background-color: hsl(52, 85%, 100%); opacity:1.0;                     line-height:1.75\"><font color=\"black\"> #unk                    </font></mark><mark style=\"background-color: hsl(52, 85%, 100%); opacity:1.0;                     line-height:1.75\"><font color=\"black\"> #unk                    </font></mark><mark style=\"background-color: hsl(52, 85%, 100%); opacity:1.0;                     line-height:1.75\"><font color=\"black\"> #unk                    </font></mark><mark style=\"background-color: hsl(52, 85%, 100%); opacity:1.0;                     line-height:1.75\"><font color=\"black\"> .                    </font></mark><mark style=\"background-color: hsl(0, 75%, 99%); opacity:1.0;                     line-height:1.75\"><font color=\"black\"> please                    </font></mark><mark style=\"background-color: hsl(0, 75%, 96%); opacity:1.0;                     line-height:1.75\"><font color=\"black\"> get                    </font></mark><mark style=\"background-color: hsl(0, 75%, 94%); opacity:1.0;                     line-height:1.75\"><font color=\"black\"> vote                    </font></mark><mark style=\"background-color: hsl(0, 75%, 89%); opacity:1.0;                     line-height:1.75\"><font color=\"black\"> david                    </font></mark><mark style=\"background-color: hsl(52, 85%, 100%); opacity:1.0;                     line-height:1.75\"><font color=\"black\"> #unk                    </font></mark><mark style=\"background-color: hsl(0, 75%, 94%); opacity:1.0;                     line-height:1.75\"><font color=\"black\"> house                    </font></mark><mark style=\"background-color: hsl(0, 75%, 85%); opacity:1.0;                     line-height:1.75\"><font color=\"black\"> ,                    </font></mark><mark style=\"background-color: hsl(52, 85%, 100%); opacity:1.0;                     line-height:1.75\"><font color=\"black\"> #unk                    </font></mark><mark style=\"background-color: hsl(0, 75%, 94%); opacity:1.0;                     line-height:1.75\"><font color=\"black\"> 21                    </font></mark><mark style=\"background-color: hsl(0, 75%, 97%); opacity:1.0;                     line-height:1.75\"><font color=\"black\"> !                    </font></mark><mark style=\"background-color: hsl(0, 75%, 98%); opacity:1.0;                     line-height:1.75\"><font color=\"black\"> follow                    </font></mark><mark style=\"background-color: hsl(0, 75%, 75%); opacity:1.0;                     line-height:1.75\"><font color=\"black\"> @user                    </font></mark><mark style=\"background-color: hsl(52, 85%, 72%); opacity:1.0;                     line-height:1.75\"><font color=\"black\"> url                    </font></mark><mark style=\"background-color: hsl(52, 85%, 100%); opacity:1.0;                     line-height:1.75\"><font color=\"black\"> #unk                    </font></mark></td><tr><tr><td><text style=\"padding-right:2em\"><b>Hate</b></text></td><td><text style=\"padding-right:2em\"><b>Neutral (0.02)</b></text></td><td><text style=\"padding-right:2em\"><b>Hate</b></text></td><td><text style=\"padding-right:2em\"><b>2.81</b></text></td><td><mark style=\"background-color: hsl(0, 75%, 100%); opacity:1.0;                     line-height:1.75\"><font color=\"black\"> christian                    </font></mark><mark style=\"background-color: hsl(0, 75%, 100%); opacity:1.0;                     line-height:1.75\"><font color=\"black\"> america                    </font></mark><mark style=\"background-color: hsl(0, 75%, 100%); opacity:1.0;                     line-height:1.75\"><font color=\"black\"> –                    </font></mark><mark style=\"background-color: hsl(0, 75%, 99%); opacity:1.0;                     line-height:1.75\"><font color=\"black\"> go                    </font></mark><mark style=\"background-color: hsl(0, 75%, 100%); opacity:1.0;                     line-height:1.75\"><font color=\"black\"> trump                    </font></mark><mark style=\"background-color: hsl(0, 75%, 100%); opacity:1.0;                     line-height:1.75\"><font color=\"black\"> ’s                    </font></mark><mark style=\"background-color: hsl(0, 75%, 100%); opacity:1.0;                     line-height:1.75\"><font color=\"black\"> example                    </font></mark><mark style=\"background-color: hsl(0, 75%, 98%); opacity:1.0;                     line-height:1.75\"><font color=\"black\"> ,                    </font></mark><mark style=\"background-color: hsl(0, 75%, 98%); opacity:1.0;                     line-height:1.75\"><font color=\"black\"> liberals                    </font></mark><mark style=\"background-color: hsl(0, 75%, 99%); opacity:1.0;                     line-height:1.75\"><font color=\"black\"> support                    </font></mark><mark style=\"background-color: hsl(0, 75%, 96%); opacity:1.0;                     line-height:1.75\"><font color=\"black\"> open                    </font></mark><mark style=\"background-color: hsl(0, 75%, 99%); opacity:1.0;                     line-height:1.75\"><font color=\"black\"> borders                    </font></mark><mark style=\"background-color: hsl(0, 75%, 96%); opacity:1.0;                     line-height:1.75\"><font color=\"black\"> ,                    </font></mark><mark style=\"background-color: hsl(0, 75%, 93%); opacity:1.0;                     line-height:1.75\"><font color=\"black\"> guess                    </font></mark><mark style=\"background-color: hsl(0, 75%, 96%); opacity:1.0;                     line-height:1.75\"><font color=\"black\"> conservatives                    </font></mark><mark style=\"background-color: hsl(0, 75%, 97%); opacity:1.0;                     line-height:1.75\"><font color=\"black\"> support                    </font></mark><mark style=\"background-color: hsl(0, 75%, 99%); opacity:1.0;                     line-height:1.75\"><font color=\"black\"> school                    </font></mark><mark style=\"background-color: hsl(0, 75%, 87%); opacity:1.0;                     line-height:1.75\"><font color=\"black\"> shootings                    </font></mark><mark style=\"background-color: hsl(52, 85%, 97%); opacity:1.0;                     line-height:1.75\"><font color=\"black\"> .                    </font></mark><mark style=\"background-color: hsl(0, 75%, 98%); opacity:1.0;                     line-height:1.75\"><font color=\"black\"> please                    </font></mark><mark style=\"background-color: hsl(0, 75%, 91%); opacity:1.0;                     line-height:1.75\"><font color=\"black\"> explain                    </font></mark><mark style=\"background-color: hsl(0, 75%, 80%); opacity:1.0;                     line-height:1.75\"><font color=\"black\"> makes                    </font></mark><mark style=\"background-color: hsl(0, 75%, 64%); opacity:1.0;                     line-height:1.75\"><font color=\"black\"> america                    </font></mark><mark style=\"background-color: hsl(0, 75%, 93%); opacity:1.0;                     line-height:1.75\"><font color=\"black\"> great                    </font></mark><mark style=\"background-color: hsl(0, 75%, 86%); opacity:1.0;                     line-height:1.75\"><font color=\"black\"> .                    </font></mark><mark style=\"background-color: hsl(52, 85%, 100%); opacity:1.0;                     line-height:1.75\"><font color=\"black\"> #unk                    </font></mark></td><tr><tr><td><text style=\"padding-right:2em\"><b>Hate</b></text></td><td><text style=\"padding-right:2em\"><b>Neutral (0.01)</b></text></td><td><text style=\"padding-right:2em\"><b>Hate</b></text></td><td><text style=\"padding-right:2em\"><b>0.50</b></text></td><td><mark style=\"background-color: hsl(0, 75%, 97%); opacity:1.0;                     line-height:1.75\"><font color=\"black\"> conservatives                    </font></mark><mark style=\"background-color: hsl(0, 75%, 98%); opacity:1.0;                     line-height:1.75\"><font color=\"black\"> govt                    </font></mark><mark style=\"background-color: hsl(0, 75%, 98%); opacity:1.0;                     line-height:1.75\"><font color=\"black\"> run                    </font></mark><mark style=\"background-color: hsl(0, 75%, 95%); opacity:1.0;                     line-height:1.75\"><font color=\"black\"> debt                    </font></mark><mark style=\"background-color: hsl(52, 85%, 100%); opacity:1.0;                     line-height:1.75\"><font color=\"black\"> #unk                    </font></mark><mark style=\"background-color: hsl(0, 75%, 99%); opacity:1.0;                     line-height:1.75\"><font color=\"black\"> austerity                    </font></mark><mark style=\"background-color: hsl(0, 75%, 97%); opacity:1.0;                     line-height:1.75\"><font color=\"black\"> cuts                    </font></mark><mark style=\"background-color: hsl(52, 85%, 96%); opacity:1.0;                     line-height:1.75\"><font color=\"black\"> rich                    </font></mark><mark style=\"background-color: hsl(52, 85%, 100%); opacity:1.0;                     line-height:1.75\"><font color=\"black\"> #unk                    </font></mark><mark style=\"background-color: hsl(0, 75%, 96%); opacity:1.0;                     line-height:1.75\"><font color=\"black\"> wealth                    </font></mark><mark style=\"background-color: hsl(0, 75%, 99%); opacity:1.0;                     line-height:1.75\"><font color=\"black\"> .                    </font></mark><mark style=\"background-color: hsl(52, 85%, 100%); opacity:1.0;                     line-height:1.75\"><font color=\"black\"> #unk                    </font></mark><mark style=\"background-color: hsl(52, 85%, 80%); opacity:1.0;                     line-height:1.75\"><font color=\"black\"> url                    </font></mark><mark style=\"background-color: hsl(52, 85%, 92%); opacity:1.0;                     line-height:1.75\"><font color=\"black\"> via                    </font></mark><mark style=\"background-color: hsl(0, 75%, 60%); opacity:1.0;                     line-height:1.75\"><font color=\"black\"> @user                    </font></mark><mark style=\"background-color: hsl(52, 85%, 100%); opacity:1.0;                     line-height:1.75\"><font color=\"black\"> #unk                    </font></mark></td><tr><tr><td><text style=\"padding-right:2em\"><b>Hate</b></text></td><td><text style=\"padding-right:2em\"><b>Neutral (0.01)</b></text></td><td><text style=\"padding-right:2em\"><b>Hate</b></text></td><td><text style=\"padding-right:2em\"><b>-0.33</b></text></td><td><mark style=\"background-color: hsl(52, 85%, 100%); opacity:1.0;                     line-height:1.75\"><font color=\"black\"> brexit                    </font></mark><mark style=\"background-color: hsl(0, 75%, 99%); opacity:1.0;                     line-height:1.75\"><font color=\"black\"> deal                    </font></mark><mark style=\"background-color: hsl(0, 75%, 99%); opacity:1.0;                     line-height:1.75\"><font color=\"black\"> reached                    </font></mark><mark style=\"background-color: hsl(0, 75%, 99%); opacity:1.0;                     line-height:1.75\"><font color=\"black\"> -                    </font></mark><mark style=\"background-color: hsl(52, 85%, 100%); opacity:1.0;                     line-height:1.75\"><font color=\"black\"> #unk                    </font></mark><mark style=\"background-color: hsl(0, 75%, 97%); opacity:1.0;                     line-height:1.75\"><font color=\"black\"> special                    </font></mark><mark style=\"background-color: hsl(52, 85%, 100%); opacity:1.0;                     line-height:1.75\"><font color=\"black\"> #unk                    </font></mark><mark style=\"background-color: hsl(0, 75%, 97%); opacity:1.0;                     line-height:1.75\"><font color=\"black\"> november                    </font></mark><mark style=\"background-color: hsl(0, 75%, 99%); opacity:1.0;                     line-height:1.75\"><font color=\"black\"> ,                    </font></mark><mark style=\"background-color: hsl(0, 75%, 99%); opacity:1.0;                     line-height:1.75\"><font color=\"black\"> @user                    </font></mark><mark style=\"background-color: hsl(0, 75%, 96%); opacity:1.0;                     line-height:1.75\"><font color=\"black\"> sold                    </font></mark><mark style=\"background-color: hsl(52, 85%, 94%); opacity:1.0;                     line-height:1.75\"><font color=\"black\"> uk                    </font></mark><mark style=\"background-color: hsl(52, 85%, 94%); opacity:1.0;                     line-height:1.75\"><font color=\"black\"> eu                    </font></mark><mark style=\"background-color: hsl(0, 75%, 94%); opacity:1.0;                     line-height:1.75\"><font color=\"black\"> ?                    </font></mark><mark style=\"background-color: hsl(0, 75%, 96%); opacity:1.0;                     line-height:1.75\"><font color=\"black\"> ?                    </font></mark><mark style=\"background-color: hsl(0, 75%, 98%); opacity:1.0;                     line-height:1.75\"><font color=\"black\"> ?                    </font></mark><mark style=\"background-color: hsl(52, 85%, 98%); opacity:1.0;                     line-height:1.75\"><font color=\"black\"> better                    </font></mark><mark style=\"background-color: hsl(0, 75%, 96%); opacity:1.0;                     line-height:1.75\"><font color=\"black\"> @user                    </font></mark><mark style=\"background-color: hsl(52, 85%, 90%); opacity:1.0;                     line-height:1.75\"><font color=\"black\"> finished                    </font></mark><mark style=\"background-color: hsl(52, 85%, 97%); opacity:1.0;                     line-height:1.75\"><font color=\"black\"> !                    </font></mark><mark style=\"background-color: hsl(52, 85%, 96%); opacity:1.0;                     line-height:1.75\"><font color=\"black\"> !                    </font></mark><mark style=\"background-color: hsl(0, 75%, 76%); opacity:1.0;                     line-height:1.75\"><font color=\"black\"> @user                    </font></mark><mark style=\"background-color: hsl(52, 85%, 71%); opacity:1.0;                     line-height:1.75\"><font color=\"black\"> url                    </font></mark><mark style=\"background-color: hsl(52, 85%, 100%); opacity:1.0;                     line-height:1.75\"><font color=\"black\"> #unk                    </font></mark></td><tr><tr><td><text style=\"padding-right:2em\"><b>Hate</b></text></td><td><text style=\"padding-right:2em\"><b>Neutral (0.01)</b></text></td><td><text style=\"padding-right:2em\"><b>Hate</b></text></td><td><text style=\"padding-right:2em\"><b>0.10</b></text></td><td><mark style=\"background-color: hsl(0, 75%, 93%); opacity:1.0;                     line-height:1.75\"><font color=\"black\"> nigeria                    </font></mark><mark style=\"background-color: hsl(52, 85%, 100%); opacity:1.0;                     line-height:1.75\"><font color=\"black\"> #unk                    </font></mark><mark style=\"background-color: hsl(52, 85%, 100%); opacity:1.0;                     line-height:1.75\"><font color=\"black\"> #unk                    </font></mark><mark style=\"background-color: hsl(0, 75%, 95%); opacity:1.0;                     line-height:1.75\"><font color=\"black\"> '                    </font></mark><mark style=\"background-color: hsl(0, 75%, 74%); opacity:1.0;                     line-height:1.75\"><font color=\"black\"> incompetent                    </font></mark><mark style=\"background-color: hsl(0, 75%, 90%); opacity:1.0;                     line-height:1.75\"><font color=\"black\"> leader                    </font></mark><mark style=\"background-color: hsl(0, 75%, 88%); opacity:1.0;                     line-height:1.75\"><font color=\"black\"> nigeria                    </font></mark><mark style=\"background-color: hsl(0, 75%, 92%); opacity:1.0;                     line-height:1.75\"><font color=\"black\"> ’s                    </font></mark><mark style=\"background-color: hsl(52, 85%, 100%); opacity:1.0;                     line-height:1.75\"><font color=\"black\"> history                    </font></mark><mark style=\"background-color: hsl(52, 85%, 100%); opacity:1.0;                     line-height:1.75\"><font color=\"black\"> '                    </font></mark><mark style=\"background-color: hsl(52, 85%, 99%); opacity:1.0;                     line-height:1.75\"><font color=\"black\"> –                    </font></mark><mark style=\"background-color: hsl(52, 85%, 100%); opacity:1.0;                     line-height:1.75\"><font color=\"black\"> #unk                    </font></mark><mark style=\"background-color: hsl(52, 85%, 100%); opacity:1.0;                     line-height:1.75\"><font color=\"black\"> #unk                    </font></mark><mark style=\"background-color: hsl(52, 85%, 100%); opacity:1.0;                     line-height:1.75\"><font color=\"black\"> #unk                    </font></mark><mark style=\"background-color: hsl(52, 85%, 82%); opacity:1.0;                     line-height:1.75\"><font color=\"black\"> url                    </font></mark><mark style=\"background-color: hsl(52, 85%, 100%); opacity:1.0;                     line-height:1.75\"><font color=\"black\"> #unk                    </font></mark><mark style=\"background-color: hsl(52, 85%, 90%); opacity:1.0;                     line-height:1.75\"><font color=\"black\"> via                    </font></mark><mark style=\"background-color: hsl(52, 85%, 79%); opacity:1.0;                     line-height:1.75\"><font color=\"black\"> url                    </font></mark><mark style=\"background-color: hsl(52, 85%, 100%); opacity:1.0;                     line-height:1.75\"><font color=\"black\"> #unk                    </font></mark></td><tr><tr><td><text style=\"padding-right:2em\"><b>Hate</b></text></td><td><text style=\"padding-right:2em\"><b>Neutral (0.01)</b></text></td><td><text style=\"padding-right:2em\"><b>Hate</b></text></td><td><text style=\"padding-right:2em\"><b>0.57</b></text></td><td><mark style=\"background-color: hsl(0, 75%, 99%); opacity:1.0;                     line-height:1.75\"><font color=\"black\"> breaking                    </font></mark><mark style=\"background-color: hsl(0, 75%, 100%); opacity:1.0;                     line-height:1.75\"><font color=\"black\"> .                    </font></mark><mark style=\"background-color: hsl(0, 75%, 97%); opacity:1.0;                     line-height:1.75\"><font color=\"black\"> greece                    </font></mark><mark style=\"background-color: hsl(0, 75%, 100%); opacity:1.0;                     line-height:1.75\"><font color=\"black\"> :                    </font></mark><mark style=\"background-color: hsl(52, 85%, 100%); opacity:1.0;                     line-height:1.75\"><font color=\"black\"> #unk                    </font></mark><mark style=\"background-color: hsl(52, 85%, 100%); opacity:1.0;                     line-height:1.75\"><font color=\"black\"> #unk                    </font></mark><mark style=\"background-color: hsl(0, 75%, 88%); opacity:1.0;                     line-height:1.75\"><font color=\"black\"> fly                    </font></mark><mark style=\"background-color: hsl(0, 75%, 90%); opacity:1.0;                     line-height:1.75\"><font color=\"black\"> protest                    </font></mark><mark style=\"background-color: hsl(52, 85%, 100%); opacity:1.0;                     line-height:1.75\"><font color=\"black\"> #unk                    </font></mark><mark style=\"background-color: hsl(0, 75%, 75%); opacity:1.0;                     line-height:1.75\"><font color=\"black\"> killed                    </font></mark><mark style=\"background-color: hsl(0, 75%, 94%); opacity:1.0;                     line-height:1.75\"><font color=\"black\"> antifa                    </font></mark><mark style=\"background-color: hsl(52, 85%, 100%); opacity:1.0;                     line-height:1.75\"><font color=\"black\"> #unk                    </font></mark><mark style=\"background-color: hsl(0, 75%, 98%); opacity:1.0;                     line-height:1.75\"><font color=\"black\"> ...                    </font></mark><mark style=\"background-color: hsl(52, 85%, 86%); opacity:1.0;                     line-height:1.75\"><font color=\"black\"> url                    </font></mark><mark style=\"background-color: hsl(52, 85%, 88%); opacity:1.0;                     line-height:1.75\"><font color=\"black\"> via                    </font></mark><mark style=\"background-color: hsl(0, 75%, 80%); opacity:1.0;                     line-height:1.75\"><font color=\"black\"> @user                    </font></mark><mark style=\"background-color: hsl(52, 85%, 82%); opacity:1.0;                     line-height:1.75\"><font color=\"black\"> url                    </font></mark><mark style=\"background-color: hsl(52, 85%, 100%); opacity:1.0;                     line-height:1.75\"><font color=\"black\"> #unk                    </font></mark></td><tr><tr><td><text style=\"padding-right:2em\"><b>Hate</b></text></td><td><text style=\"padding-right:2em\"><b>Neutral (0.04)</b></text></td><td><text style=\"padding-right:2em\"><b>Hate</b></text></td><td><text style=\"padding-right:2em\"><b>1.85</b></text></td><td><mark style=\"background-color: hsl(52, 85%, 100%); opacity:1.0;                     line-height:1.75\"><font color=\"black\"> #unk                    </font></mark><mark style=\"background-color: hsl(52, 85%, 100%); opacity:1.0;                     line-height:1.75\"><font color=\"black\"> mr                    </font></mark><mark style=\"background-color: hsl(52, 85%, 100%); opacity:1.0;                     line-height:1.75\"><font color=\"black\"> #unk                    </font></mark><mark style=\"background-color: hsl(52, 85%, 100%); opacity:1.0;                     line-height:1.75\"><font color=\"black\"> #unk                    </font></mark><mark style=\"background-color: hsl(52, 85%, 100%); opacity:1.0;                     line-height:1.75\"><font color=\"black\"> #unk                    </font></mark><mark style=\"background-color: hsl(0, 75%, 100%); opacity:1.0;                     line-height:1.75\"><font color=\"black\"> !                    </font></mark><mark style=\"background-color: hsl(0, 75%, 100%); opacity:1.0;                     line-height:1.75\"><font color=\"black\"> please                    </font></mark><mark style=\"background-color: hsl(0, 75%, 100%); opacity:1.0;                     line-height:1.75\"><font color=\"black\"> respond                    </font></mark><mark style=\"background-color: hsl(52, 85%, 100%); opacity:1.0;                     line-height:1.75\"><font color=\"black\"> #unk                    </font></mark><mark style=\"background-color: hsl(52, 85%, 100%); opacity:1.0;                     line-height:1.75\"><font color=\"black\"> #unk                    </font></mark><mark style=\"background-color: hsl(0, 75%, 97%); opacity:1.0;                     line-height:1.75\"><font color=\"black\"> daughter                    </font></mark><mark style=\"background-color: hsl(52, 85%, 100%); opacity:1.0;                     line-height:1.75\"><font color=\"black\"> pti                    </font></mark><mark style=\"background-color: hsl(52, 85%, 100%); opacity:1.0;                     line-height:1.75\"><font color=\"black\"> #unk                    </font></mark><mark style=\"background-color: hsl(52, 85%, 100%); opacity:1.0;                     line-height:1.75\"><font color=\"black\"> #unk                    </font></mark><mark style=\"background-color: hsl(0, 75%, 96%); opacity:1.0;                     line-height:1.75\"><font color=\"black\"> whose                    </font></mark><mark style=\"background-color: hsl(0, 75%, 97%); opacity:1.0;                     line-height:1.75\"><font color=\"black\"> father                    </font></mark><mark style=\"background-color: hsl(0, 75%, 90%); opacity:1.0;                     line-height:1.75\"><font color=\"black\"> killed                    </font></mark><mark style=\"background-color: hsl(0, 75%, 94%); opacity:1.0;                     line-height:1.75\"><font color=\"black\"> elections                    </font></mark><mark style=\"background-color: hsl(52, 85%, 100%); opacity:1.0;                     line-height:1.75\"><font color=\"black\"> #unk                    </font></mark><mark style=\"background-color: hsl(52, 85%, 100%); opacity:1.0;                     line-height:1.75\"><font color=\"black\"> league                    </font></mark><mark style=\"background-color: hsl(0, 75%, 99%); opacity:1.0;                     line-height:1.75\"><font color=\"black\"> killers                    </font></mark><mark style=\"background-color: hsl(52, 85%, 97%); opacity:1.0;                     line-height:1.75\"><font color=\"black\"> .                    </font></mark><mark style=\"background-color: hsl(52, 85%, 98%); opacity:1.0;                     line-height:1.75\"><font color=\"black\"> saying                    </font></mark><mark style=\"background-color: hsl(0, 75%, 79%); opacity:1.0;                     line-height:1.75\"><font color=\"black\"> commit                    </font></mark><mark style=\"background-color: hsl(0, 75%, 64%); opacity:1.0;                     line-height:1.75\"><font color=\"black\"> suicide                    </font></mark><mark style=\"background-color: hsl(0, 75%, 90%); opacity:1.0;                     line-height:1.75\"><font color=\"black\"> front                    </font></mark><mark style=\"background-color: hsl(0, 75%, 88%); opacity:1.0;                     line-height:1.75\"><font color=\"black\"> media                    </font></mark><mark style=\"background-color: hsl(52, 85%, 95%); opacity:1.0;                     line-height:1.75\"><font color=\"black\"> .                    </font></mark><mark style=\"background-color: hsl(52, 85%, 92%); opacity:1.0;                     line-height:1.75\"><font color=\"black\"> justice                    </font></mark><mark style=\"background-color: hsl(0, 75%, 93%); opacity:1.0;                     line-height:1.75\"><font color=\"black\"> ?                    </font></mark><mark style=\"background-color: hsl(52, 85%, 100%); opacity:1.0;                     line-height:1.75\"><font color=\"black\"> #unk                    </font></mark></td><tr><tr><td><text style=\"padding-right:2em\"><b>Hate</b></text></td><td><text style=\"padding-right:2em\"><b>Neutral (0.02)</b></text></td><td><text style=\"padding-right:2em\"><b>Hate</b></text></td><td><text style=\"padding-right:2em\"><b>3.30</b></text></td><td><mark style=\"background-color: hsl(52, 85%, 100%); opacity:1.0;                     line-height:1.75\"><font color=\"black\"> #unk                    </font></mark><mark style=\"background-color: hsl(0, 75%, 100%); opacity:1.0;                     line-height:1.75\"><font color=\"black\"> hope                    </font></mark><mark style=\"background-color: hsl(0, 75%, 100%); opacity:1.0;                     line-height:1.75\"><font color=\"black\"> human                    </font></mark><mark style=\"background-color: hsl(0, 75%, 100%); opacity:1.0;                     line-height:1.75\"><font color=\"black\"> rights                    </font></mark><mark style=\"background-color: hsl(0, 75%, 100%); opacity:1.0;                     line-height:1.75\"><font color=\"black\"> rats                    </font></mark><mark style=\"background-color: hsl(0, 75%, 100%); opacity:1.0;                     line-height:1.75\"><font color=\"black\"> r                    </font></mark><mark style=\"background-color: hsl(52, 85%, 100%); opacity:1.0;                     line-height:1.75\"><font color=\"black\"> #unk                    </font></mark><mark style=\"background-color: hsl(52, 85%, 100%); opacity:1.0;                     line-height:1.75\"><font color=\"black\"> #unk                    </font></mark><mark style=\"background-color: hsl(0, 75%, 100%); opacity:1.0;                     line-height:1.75\"><font color=\"black\"> happy                    </font></mark><mark style=\"background-color: hsl(0, 75%, 100%); opacity:1.0;                     line-height:1.75\"><font color=\"black\"> !                    </font></mark><mark style=\"background-color: hsl(0, 75%, 100%); opacity:1.0;                     line-height:1.75\"><font color=\"black\"> hope                    </font></mark><mark style=\"background-color: hsl(0, 75%, 100%); opacity:1.0;                     line-height:1.75\"><font color=\"black\"> liberals                    </font></mark><mark style=\"background-color: hsl(0, 75%, 100%); opacity:1.0;                     line-height:1.75\"><font color=\"black\"> r                    </font></mark><mark style=\"background-color: hsl(52, 85%, 100%); opacity:1.0;                     line-height:1.75\"><font color=\"black\"> happy                    </font></mark><mark style=\"background-color: hsl(0, 75%, 100%); opacity:1.0;                     line-height:1.75\"><font color=\"black\"> !                    </font></mark><mark style=\"background-color: hsl(0, 75%, 100%); opacity:1.0;                     line-height:1.75\"><font color=\"black\"> let                    </font></mark><mark style=\"background-color: hsl(0, 75%, 100%); opacity:1.0;                     line-height:1.75\"><font color=\"black\"> ’s                    </font></mark><mark style=\"background-color: hsl(0, 75%, 100%); opacity:1.0;                     line-height:1.75\"><font color=\"black\"> play                    </font></mark><mark style=\"background-color: hsl(52, 85%, 100%); opacity:1.0;                     line-height:1.75\"><font color=\"black\"> #unk                    </font></mark><mark style=\"background-color: hsl(0, 75%, 99%); opacity:1.0;                     line-height:1.75\"><font color=\"black\"> wth                    </font></mark><mark style=\"background-color: hsl(52, 85%, 100%); opacity:1.0;                     line-height:1.75\"><font color=\"black\"> #unk                    </font></mark><mark style=\"background-color: hsl(0, 75%, 99%); opacity:1.0;                     line-height:1.75\"><font color=\"black\"> let                    </font></mark><mark style=\"background-color: hsl(0, 75%, 99%); opacity:1.0;                     line-height:1.75\"><font color=\"black\"> ’s                    </font></mark><mark style=\"background-color: hsl(0, 75%, 100%); opacity:1.0;                     line-height:1.75\"><font color=\"black\"> thank                    </font></mark><mark style=\"background-color: hsl(52, 85%, 100%); opacity:1.0;                     line-height:1.75\"><font color=\"black\"> #unk                    </font></mark><mark style=\"background-color: hsl(0, 75%, 96%); opacity:1.0;                     line-height:1.75\"><font color=\"black\"> 4                    </font></mark><mark style=\"background-color: hsl(52, 85%, 100%); opacity:1.0;                     line-height:1.75\"><font color=\"black\"> #unk                    </font></mark><mark style=\"background-color: hsl(0, 75%, 96%); opacity:1.0;                     line-height:1.75\"><font color=\"black\"> r                    </font></mark><mark style=\"background-color: hsl(52, 85%, 100%); opacity:1.0;                     line-height:1.75\"><font color=\"black\"> #unk                    </font></mark><mark style=\"background-color: hsl(0, 75%, 93%); opacity:1.0;                     line-height:1.75\"><font color=\"black\"> soldiers                    </font></mark><mark style=\"background-color: hsl(0, 75%, 93%); opacity:1.0;                     line-height:1.75\"><font color=\"black\"> let                    </font></mark><mark style=\"background-color: hsl(0, 75%, 93%); opacity:1.0;                     line-height:1.75\"><font color=\"black\"> ’s                    </font></mark><mark style=\"background-color: hsl(0, 75%, 82%); opacity:1.0;                     line-height:1.75\"><font color=\"black\"> celebrate                    </font></mark><mark style=\"background-color: hsl(52, 85%, 100%); opacity:1.0;                     line-height:1.75\"><font color=\"black\"> #unk                    </font></mark><mark style=\"background-color: hsl(0, 75%, 86%); opacity:1.0;                     line-height:1.75\"><font color=\"black\"> funny                    </font></mark><mark style=\"background-color: hsl(52, 85%, 100%); opacity:1.0;                     line-height:1.75\"><font color=\"black\"> #unk                    </font></mark><mark style=\"background-color: hsl(0, 75%, 73%); opacity:1.0;                     line-height:1.75\"><font color=\"black\"> little                    </font></mark><mark style=\"background-color: hsl(0, 75%, 87%); opacity:1.0;                     line-height:1.75\"><font color=\"black\"> nation                    </font></mark><mark style=\"background-color: hsl(0, 75%, 86%); opacity:1.0;                     line-height:1.75\"><font color=\"black\"> like                    </font></mark><mark style=\"background-color: hsl(52, 85%, 100%); opacity:1.0;                     line-height:1.75\"><font color=\"black\"> #unk                    </font></mark><mark style=\"background-color: hsl(52, 85%, 99%); opacity:1.0;                     line-height:1.75\"><font color=\"black\"> taking                    </font></mark><mark style=\"background-color: hsl(0, 75%, 90%); opacity:1.0;                     line-height:1.75\"><font color=\"black\"> us                    </font></mark><mark style=\"background-color: hsl(0, 75%, 84%); opacity:1.0;                     line-height:1.75\"><font color=\"black\"> 4                    </font></mark><mark style=\"background-color: hsl(0, 75%, 85%); opacity:1.0;                     line-height:1.75\"><font color=\"black\"> ride                    </font></mark><mark style=\"background-color: hsl(52, 85%, 100%); opacity:1.0;                     line-height:1.75\"><font color=\"black\"> #unk                    </font></mark></td><tr><tr><td><text style=\"padding-right:2em\"><b>Hate</b></text></td><td><text style=\"padding-right:2em\"><b>Neutral (0.02)</b></text></td><td><text style=\"padding-right:2em\"><b>Hate</b></text></td><td><text style=\"padding-right:2em\"><b>1.89</b></text></td><td><mark style=\"background-color: hsl(52, 85%, 95%); opacity:1.0;                     line-height:1.75\"><font color=\"black\"> @user                    </font></mark><mark style=\"background-color: hsl(0, 75%, 98%); opacity:1.0;                     line-height:1.75\"><font color=\"black\"> get                    </font></mark><mark style=\"background-color: hsl(0, 75%, 96%); opacity:1.0;                     line-height:1.75\"><font color=\"black\"> feeling                    </font></mark><mark style=\"background-color: hsl(0, 75%, 91%); opacity:1.0;                     line-height:1.75\"><font color=\"black\"> kissing                    </font></mark><mark style=\"background-color: hsl(0, 75%, 99%); opacity:1.0;                     line-height:1.75\"><font color=\"black\"> @user                    </font></mark><mark style=\"background-color: hsl(0, 75%, 74%); opacity:1.0;                     line-height:1.75\"><font color=\"black\"> behind                    </font></mark><mark style=\"background-color: hsl(52, 85%, 100%); opacity:1.0;                     line-height:1.75\"><font color=\"black\"> #unk                    </font></mark><mark style=\"background-color: hsl(0, 75%, 72%); opacity:1.0;                     line-height:1.75\"><font color=\"black\"> later                    </font></mark><mark style=\"background-color: hsl(0, 75%, 72%); opacity:1.0;                     line-height:1.75\"><font color=\"black\"> ?                    </font></mark><mark style=\"background-color: hsl(52, 85%, 100%); opacity:1.0;                     line-height:1.75\"><font color=\"black\"> #unk                    </font></mark></td><tr><tr><td><text style=\"padding-right:2em\"><b>Hate</b></text></td><td><text style=\"padding-right:2em\"><b>Neutral (0.01)</b></text></td><td><text style=\"padding-right:2em\"><b>Hate</b></text></td><td><text style=\"padding-right:2em\"><b>1.47</b></text></td><td><mark style=\"background-color: hsl(52, 85%, 100%); opacity:1.0;                     line-height:1.75\"><font color=\"black\"> #unk                    </font></mark><mark style=\"background-color: hsl(52, 85%, 100%); opacity:1.0;                     line-height:1.75\"><font color=\"black\"> #unk                    </font></mark><mark style=\"background-color: hsl(0, 75%, 100%); opacity:1.0;                     line-height:1.75\"><font color=\"black\"> liberals                    </font></mark><mark style=\"background-color: hsl(0, 75%, 100%); opacity:1.0;                     line-height:1.75\"><font color=\"black\"> want                    </font></mark><mark style=\"background-color: hsl(0, 75%, 100%); opacity:1.0;                     line-height:1.75\"><font color=\"black\"> use                    </font></mark><mark style=\"background-color: hsl(0, 75%, 100%); opacity:1.0;                     line-height:1.75\"><font color=\"black\"> rape                    </font></mark><mark style=\"background-color: hsl(0, 75%, 100%); opacity:1.0;                     line-height:1.75\"><font color=\"black\"> political                    </font></mark><mark style=\"background-color: hsl(52, 85%, 100%); opacity:1.0;                     line-height:1.75\"><font color=\"black\"> tactic                    </font></mark><mark style=\"background-color: hsl(0, 75%, 100%); opacity:1.0;                     line-height:1.75\"><font color=\"black\"> !                    </font></mark><mark style=\"background-color: hsl(0, 75%, 100%); opacity:1.0;                     line-height:1.75\"><font color=\"black\"> better                    </font></mark><mark style=\"background-color: hsl(0, 75%, 99%); opacity:1.0;                     line-height:1.75\"><font color=\"black\"> hard                    </font></mark><mark style=\"background-color: hsl(0, 75%, 99%); opacity:1.0;                     line-height:1.75\"><font color=\"black\"> evidence                    </font></mark><mark style=\"background-color: hsl(0, 75%, 100%); opacity:1.0;                     line-height:1.75\"><font color=\"black\"> !                    </font></mark><mark style=\"background-color: hsl(52, 85%, 100%); opacity:1.0;                     line-height:1.75\"><font color=\"black\"> word                    </font></mark><mark style=\"background-color: hsl(0, 75%, 100%); opacity:1.0;                     line-height:1.75\"><font color=\"black\"> n't                    </font></mark><mark style=\"background-color: hsl(0, 75%, 99%); opacity:1.0;                     line-height:1.75\"><font color=\"black\"> evidence                    </font></mark><mark style=\"background-color: hsl(0, 75%, 99%); opacity:1.0;                     line-height:1.75\"><font color=\"black\"> !                    </font></mark><mark style=\"background-color: hsl(0, 75%, 99%); opacity:1.0;                     line-height:1.75\"><font color=\"black\"> !                    </font></mark><mark style=\"background-color: hsl(0, 75%, 99%); opacity:1.0;                     line-height:1.75\"><font color=\"black\"> !                    </font></mark><mark style=\"background-color: hsl(0, 75%, 98%); opacity:1.0;                     line-height:1.75\"><font color=\"black\"> called                    </font></mark><mark style=\"background-color: hsl(52, 85%, 100%); opacity:1.0;                     line-height:1.75\"><font color=\"black\"> #unk                    </font></mark><mark style=\"background-color: hsl(52, 85%, 99%); opacity:1.0;                     line-height:1.75\"><font color=\"black\"> .                    </font></mark><mark style=\"background-color: hsl(0, 75%, 98%); opacity:1.0;                     line-height:1.75\"><font color=\"black\"> note                    </font></mark><mark style=\"background-color: hsl(0, 75%, 98%); opacity:1.0;                     line-height:1.75\"><font color=\"black\"> ,                    </font></mark><mark style=\"background-color: hsl(0, 75%, 94%); opacity:1.0;                     line-height:1.75\"><font color=\"black\"> could                    </font></mark><mark style=\"background-color: hsl(52, 85%, 98%); opacity:1.0;                     line-height:1.75\"><font color=\"black\"> say                    </font></mark><mark style=\"background-color: hsl(0, 75%, 99%); opacity:1.0;                     line-height:1.75\"><font color=\"black\"> '                    </font></mark><mark style=\"background-color: hsl(0, 75%, 98%); opacity:1.0;                     line-height:1.75\"><font color=\"black\"> '                    </font></mark><mark style=\"background-color: hsl(52, 85%, 100%); opacity:1.0;                     line-height:1.75\"><font color=\"black\"> #unk                    </font></mark><mark style=\"background-color: hsl(0, 75%, 89%); opacity:1.0;                     line-height:1.75\"><font color=\"black\"> bathroom                    </font></mark><mark style=\"background-color: hsl(0, 75%, 86%); opacity:1.0;                     line-height:1.75\"><font color=\"black\"> ,                    </font></mark><mark style=\"background-color: hsl(0, 75%, 78%); opacity:1.0;                     line-height:1.75\"><font color=\"black\"> put                    </font></mark><mark style=\"background-color: hsl(0, 75%, 88%); opacity:1.0;                     line-height:1.75\"><font color=\"black\"> hands                    </font></mark><mark style=\"background-color: hsl(0, 75%, 98%); opacity:1.0;                     line-height:1.75\"><font color=\"black\"> '                    </font></mark><mark style=\"background-color: hsl(0, 75%, 97%); opacity:1.0;                     line-height:1.75\"><font color=\"black\"> 35                    </font></mark><mark style=\"background-color: hsl(0, 75%, 79%); opacity:1.0;                     line-height:1.75\"><font color=\"black\"> years                    </font></mark><mark style=\"background-color: hsl(52, 85%, 91%); opacity:1.0;                     line-height:1.75\"><font color=\"black\"> ago                    </font></mark><mark style=\"background-color: hsl(52, 85%, 92%); opacity:1.0;                     line-height:1.75\"><font color=\"black\"> .                    </font></mark><mark style=\"background-color: hsl(0, 75%, 89%); opacity:1.0;                     line-height:1.75\"><font color=\"black\"> prove                    </font></mark><mark style=\"background-color: hsl(52, 85%, 91%); opacity:1.0;                     line-height:1.75\"><font color=\"black\"> wrong                    </font></mark><mark style=\"background-color: hsl(52, 85%, 85%); opacity:1.0;                     line-height:1.75\"><font color=\"black\"> url                    </font></mark><mark style=\"background-color: hsl(52, 85%, 100%); opacity:1.0;                     line-height:1.75\"><font color=\"black\"> #unk                    </font></mark></td><tr></table>"
      ],
      "text/plain": [
       "<IPython.core.display.HTML object>"
      ]
     },
     "metadata": {},
     "output_type": "display_data"
    }
   ],
   "source": [
    "dataset_visualization(model, vocab_stoi, vocab_itos, lowest_stats_df_fn,\\\n",
    "                      field, device, max_samples=10,partial_vis=True,class_names=[\"Neutral\",\"Hate\"])"
   ]
  },
  {
   "cell_type": "code",
   "execution_count": null,
   "metadata": {},
   "outputs": [],
   "source": []
  }
 ],
 "metadata": {
  "kernelspec": {
   "display_name": "Python 3 (ipykernel)",
   "language": "python",
   "name": "python3"
  },
  "language_info": {
   "codemirror_mode": {
    "name": "ipython",
    "version": 3
   },
   "file_extension": ".py",
   "mimetype": "text/x-python",
   "name": "python",
   "nbconvert_exporter": "python",
   "pygments_lexer": "ipython3",
   "version": "3.8.12"
  }
 },
 "nbformat": 4,
 "nbformat_minor": 4
}
