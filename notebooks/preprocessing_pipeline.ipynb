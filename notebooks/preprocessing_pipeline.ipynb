{
 "cells": [
  {
   "cell_type": "markdown",
   "id": "f8657118",
   "metadata": {},
   "source": [
    "# <center> Hate Speech Preprocessing pipeline</center>"
   ]
  },
  {
   "cell_type": "markdown",
   "id": "fc4b95fc",
   "metadata": {},
   "source": [
    "## Imports"
   ]
  },
  {
   "cell_type": "code",
   "execution_count": 1,
   "id": "3e105d76",
   "metadata": {},
   "outputs": [],
   "source": [
    "import os\n",
    "import shutil\n",
    "import time\n",
    "import csv\n",
    "import numpy as np\n",
    "import pandas as pd\n",
    "import sklearn\n",
    "import torch\n",
    "from sklearn.model_selection import train_test_split\n",
    "from sklearn.feature_extraction.text import CountVectorizer\n",
    "import nltk\n",
    "import string\n",
    "import re\n"
   ]
  },
  {
   "cell_type": "code",
   "execution_count": 2,
   "id": "01c8b3c2",
   "metadata": {},
   "outputs": [],
   "source": [
    "#nltk.download('stopwords')"
   ]
  },
  {
   "cell_type": "markdown",
   "id": "42c89858",
   "metadata": {},
   "source": [
    "## Functions"
   ]
  },
  {
   "cell_type": "code",
   "execution_count": 3,
   "id": "edf5f6a6",
   "metadata": {},
   "outputs": [],
   "source": [
    "def clean_text(text):\n",
    "    # Remove punctuation and lower text\n",
    "    text = \"\".join([word.lower() for word in text if word not in string.punctuation])\n",
    "    \n",
    "    # Remove numeric numbers\n",
    "    text = re.sub('[0-9]+', '', text)\n",
    "    \n",
    "    # Tokenization\n",
    "    tokens = re.split('\\W+', text)\n",
    "    \n",
    "    # Remove stopwords\n",
    "    stopword = nltk.corpus.stopwords.words('english')\n",
    "    stopword.extend(['user'])\n",
    "    \n",
    "    # Stemming (ex treated -> treat)\n",
    "    ps = nltk.PorterStemmer()\n",
    "    text = [ps.stem(word) for word in tokens if word not in stopword]\n",
    "    \n",
    "    return text"
   ]
  },
  {
   "cell_type": "markdown",
   "id": "c038b45a",
   "metadata": {},
   "source": [
    "## Data Loading"
   ]
  },
  {
   "cell_type": "code",
   "execution_count": 4,
   "id": "37fdc092",
   "metadata": {},
   "outputs": [
    {
     "data": {
      "text/html": [
       "<div>\n",
       "<style scoped>\n",
       "    .dataframe tbody tr th:only-of-type {\n",
       "        vertical-align: middle;\n",
       "    }\n",
       "\n",
       "    .dataframe tbody tr th {\n",
       "        vertical-align: top;\n",
       "    }\n",
       "\n",
       "    .dataframe thead th {\n",
       "        text-align: right;\n",
       "    }\n",
       "</style>\n",
       "<table border=\"1\" class=\"dataframe\">\n",
       "  <thead>\n",
       "    <tr style=\"text-align: right;\">\n",
       "      <th></th>\n",
       "      <th>text</th>\n",
       "      <th>labels</th>\n",
       "    </tr>\n",
       "  </thead>\n",
       "  <tbody>\n",
       "    <tr>\n",
       "      <th>0</th>\n",
       "      <td>@USER She should ask a few native Americans wh...</td>\n",
       "      <td>OFF</td>\n",
       "    </tr>\n",
       "    <tr>\n",
       "      <th>1</th>\n",
       "      <td>@USER @USER Go home you’re drunk!!! @USER #MAG...</td>\n",
       "      <td>OFF</td>\n",
       "    </tr>\n",
       "    <tr>\n",
       "      <th>2</th>\n",
       "      <td>Amazon is investigating Chinese employees who ...</td>\n",
       "      <td>NOT</td>\n",
       "    </tr>\n",
       "    <tr>\n",
       "      <th>3</th>\n",
       "      <td>@USER Someone should'veTaken\" this piece of sh...</td>\n",
       "      <td>OFF</td>\n",
       "    </tr>\n",
       "    <tr>\n",
       "      <th>4</th>\n",
       "      <td>@USER @USER Obama wanted liberals &amp;amp; illega...</td>\n",
       "      <td>NOT</td>\n",
       "    </tr>\n",
       "    <tr>\n",
       "      <th>...</th>\n",
       "      <td>...</td>\n",
       "      <td>...</td>\n",
       "    </tr>\n",
       "    <tr>\n",
       "      <th>13235</th>\n",
       "      <td>@USER Sometimes I get strong vibes from people...</td>\n",
       "      <td>OFF</td>\n",
       "    </tr>\n",
       "    <tr>\n",
       "      <th>13236</th>\n",
       "      <td>Benidorm ✅  Creamfields ✅  Maga ✅   Not too sh...</td>\n",
       "      <td>NOT</td>\n",
       "    </tr>\n",
       "    <tr>\n",
       "      <th>13237</th>\n",
       "      <td>@USER And why report this garbage.  We don't g...</td>\n",
       "      <td>OFF</td>\n",
       "    </tr>\n",
       "    <tr>\n",
       "      <th>13238</th>\n",
       "      <td>@USER Pussy</td>\n",
       "      <td>OFF</td>\n",
       "    </tr>\n",
       "    <tr>\n",
       "      <th>13239</th>\n",
       "      <td>#Spanishrevenge vs. #justice #HumanRights and ...</td>\n",
       "      <td>NOT</td>\n",
       "    </tr>\n",
       "  </tbody>\n",
       "</table>\n",
       "<p>13240 rows × 2 columns</p>\n",
       "</div>"
      ],
      "text/plain": [
       "                                                    text labels\n",
       "0      @USER She should ask a few native Americans wh...    OFF\n",
       "1      @USER @USER Go home you’re drunk!!! @USER #MAG...    OFF\n",
       "2      Amazon is investigating Chinese employees who ...    NOT\n",
       "3      @USER Someone should'veTaken\" this piece of sh...    OFF\n",
       "4      @USER @USER Obama wanted liberals &amp; illega...    NOT\n",
       "...                                                  ...    ...\n",
       "13235  @USER Sometimes I get strong vibes from people...    OFF\n",
       "13236  Benidorm ✅  Creamfields ✅  Maga ✅   Not too sh...    NOT\n",
       "13237  @USER And why report this garbage.  We don't g...    OFF\n",
       "13238                                        @USER Pussy    OFF\n",
       "13239  #Spanishrevenge vs. #justice #HumanRights and ...    NOT\n",
       "\n",
       "[13240 rows x 2 columns]"
      ]
     },
     "execution_count": 4,
     "metadata": {},
     "output_type": "execute_result"
    }
   ],
   "source": [
    "df = pd.read_csv('../data/olid/olid-training-v1.0.tsv', sep=\"\\t\")\n",
    "df = df.rename(columns={'tweet': 'text', 'subtask_a': 'labels'})\n",
    "df = df[['text', 'labels']]\n",
    "df"
   ]
  },
  {
   "cell_type": "markdown",
   "id": "6f87824c",
   "metadata": {},
   "source": [
    "## Data Cleaning and Tokenization"
   ]
  },
  {
   "cell_type": "code",
   "execution_count": 5,
   "id": "db5e6f26",
   "metadata": {},
   "outputs": [
    {
     "data": {
      "text/html": [
       "<div>\n",
       "<style scoped>\n",
       "    .dataframe tbody tr th:only-of-type {\n",
       "        vertical-align: middle;\n",
       "    }\n",
       "\n",
       "    .dataframe tbody tr th {\n",
       "        vertical-align: top;\n",
       "    }\n",
       "\n",
       "    .dataframe thead th {\n",
       "        text-align: right;\n",
       "    }\n",
       "</style>\n",
       "<table border=\"1\" class=\"dataframe\">\n",
       "  <thead>\n",
       "    <tr style=\"text-align: right;\">\n",
       "      <th></th>\n",
       "      <th>text</th>\n",
       "      <th>labels</th>\n",
       "    </tr>\n",
       "  </thead>\n",
       "  <tbody>\n",
       "    <tr>\n",
       "      <th>0</th>\n",
       "      <td>[ask, nativ, american, take]</td>\n",
       "      <td>OFF</td>\n",
       "    </tr>\n",
       "    <tr>\n",
       "      <th>1</th>\n",
       "      <td>[go, home, drunk, maga, trump, url]</td>\n",
       "      <td>OFF</td>\n",
       "    </tr>\n",
       "    <tr>\n",
       "      <th>2</th>\n",
       "      <td>[amazon, investig, chines, employe, sell, inte...</td>\n",
       "      <td>NOT</td>\n",
       "    </tr>\n",
       "    <tr>\n",
       "      <th>3</th>\n",
       "      <td>[someon, shouldvetaken, piec, shit, volcano, ]</td>\n",
       "      <td>OFF</td>\n",
       "    </tr>\n",
       "    <tr>\n",
       "      <th>4</th>\n",
       "      <td>[obama, want, liber, amp, illeg, move, red, st...</td>\n",
       "      <td>NOT</td>\n",
       "    </tr>\n",
       "    <tr>\n",
       "      <th>...</th>\n",
       "      <td>...</td>\n",
       "      <td>...</td>\n",
       "    </tr>\n",
       "    <tr>\n",
       "      <th>13235</th>\n",
       "      <td>[sometim, get, strong, vibe, peopl, man, vibe,...</td>\n",
       "      <td>OFF</td>\n",
       "    </tr>\n",
       "    <tr>\n",
       "      <th>13236</th>\n",
       "      <td>[benidorm, creamfield, maga, shabbi, summer]</td>\n",
       "      <td>NOT</td>\n",
       "    </tr>\n",
       "    <tr>\n",
       "      <th>13237</th>\n",
       "      <td>[report, garbag, dont, give, crap]</td>\n",
       "      <td>OFF</td>\n",
       "    </tr>\n",
       "    <tr>\n",
       "      <th>13238</th>\n",
       "      <td>[pussi]</td>\n",
       "      <td>OFF</td>\n",
       "    </tr>\n",
       "    <tr>\n",
       "      <th>13239</th>\n",
       "      <td>[spanishreveng, vs, justic, humanright, freedo...</td>\n",
       "      <td>NOT</td>\n",
       "    </tr>\n",
       "  </tbody>\n",
       "</table>\n",
       "<p>13240 rows × 2 columns</p>\n",
       "</div>"
      ],
      "text/plain": [
       "                                                    text labels\n",
       "0                           [ask, nativ, american, take]    OFF\n",
       "1                    [go, home, drunk, maga, trump, url]    OFF\n",
       "2      [amazon, investig, chines, employe, sell, inte...    NOT\n",
       "3         [someon, shouldvetaken, piec, shit, volcano, ]    OFF\n",
       "4      [obama, want, liber, amp, illeg, move, red, st...    NOT\n",
       "...                                                  ...    ...\n",
       "13235  [sometim, get, strong, vibe, peopl, man, vibe,...    OFF\n",
       "13236       [benidorm, creamfield, maga, shabbi, summer]    NOT\n",
       "13237                 [report, garbag, dont, give, crap]    OFF\n",
       "13238                                            [pussi]    OFF\n",
       "13239  [spanishreveng, vs, justic, humanright, freedo...    NOT\n",
       "\n",
       "[13240 rows x 2 columns]"
      ]
     },
     "execution_count": 5,
     "metadata": {},
     "output_type": "execute_result"
    }
   ],
   "source": [
    "# Remove punctuation and numbers\n",
    "df['text'] = df['text'].apply(lambda x: clean_text(x))\n",
    "df"
   ]
  },
  {
   "cell_type": "markdown",
   "id": "c63992ff",
   "metadata": {},
   "source": [
    "## Vectorization"
   ]
  },
  {
   "cell_type": "code",
   "execution_count": 6,
   "id": "1eb35183",
   "metadata": {},
   "outputs": [
    {
     "name": "stdout",
     "output_type": "stream",
     "text": [
      "13240 Number of tweets has 12868 words\n"
     ]
    }
   ],
   "source": [
    "countVectorizer = CountVectorizer(analyzer=clean_text) \n",
    "countVector = countVectorizer.fit_transform(df['text'])\n",
    "print('{} Number of tweets has {} words'.format(countVector.shape[0], countVector.shape[1]))"
   ]
  },
  {
   "cell_type": "code",
   "execution_count": 7,
   "id": "6b25ebc4",
   "metadata": {},
   "outputs": [
    {
     "data": {
      "text/plain": [
       "(13240, 12868)"
      ]
     },
     "execution_count": 7,
     "metadata": {},
     "output_type": "execute_result"
    }
   ],
   "source": [
    "countVector.shape"
   ]
  },
  {
   "cell_type": "code",
   "execution_count": null,
   "id": "17523955",
   "metadata": {},
   "outputs": [],
   "source": []
  }
 ],
 "metadata": {
  "kernelspec": {
   "display_name": "Python 3 (ipykernel)",
   "language": "python",
   "name": "python3"
  },
  "language_info": {
   "codemirror_mode": {
    "name": "ipython",
    "version": 3
   },
   "file_extension": ".py",
   "mimetype": "text/x-python",
   "name": "python",
   "nbconvert_exporter": "python",
   "pygments_lexer": "ipython3",
   "version": "3.7.11"
  }
 },
 "nbformat": 4,
 "nbformat_minor": 5
}
